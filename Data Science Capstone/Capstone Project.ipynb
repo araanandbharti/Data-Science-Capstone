{
  "nbformat": 4,
  "nbformat_minor": 0,
  "metadata": {
    "colab": {
      "name": "Untitled1.ipynb",
      "provenance": [],
      "collapsed_sections": []
    },
    "kernelspec": {
      "name": "python3",
      "display_name": "Python 3"
    }
  },
  "cells": [
    {
      "cell_type": "markdown",
      "metadata": {
        "id": "U-HflO2oJHVz",
        "colab_type": "text"
      },
      "source": [
        "# My name is Anand Bharti\n",
        "In this lab, I am going to do segmentation of places of Patna city on the basis of features like shopping mall, gym, subway, and many more.\n",
        "    First of all I had scrapped data from some property seeling online site. After that i extracted data of my choise from site using my HTML background."
      ]
    },
    {
      "cell_type": "markdown",
      "metadata": {
        "id": "ItiNxTtkLRQu",
        "colab_type": "text"
      },
      "source": [
        "Importing requests libraby"
      ]
    },
    {
      "cell_type": "markdown",
      "metadata": {
        "id": "n-jfABlFLYz6",
        "colab_type": "text"
      },
      "source": [
        "Using 'https://www.makaan.com/price-trends/property-rates-for-buy-in-patna' site, I am going to extract some useful data."
      ]
    },
    {
      "cell_type": "code",
      "metadata": {
        "id": "gN7TpdEfF0tR",
        "colab_type": "code",
        "colab": {}
      },
      "source": [
        "import requests"
      ],
      "execution_count": null,
      "outputs": []
    },
    {
      "cell_type": "code",
      "metadata": {
        "id": "jJIX7sGGJwvc",
        "colab_type": "code",
        "colab": {}
      },
      "source": [
        "url = requests.get('https://www.makaan.com/price-trends/property-rates-for-buy-in-patna','html.parser').text"
      ],
      "execution_count": null,
      "outputs": []
    },
    {
      "cell_type": "code",
      "metadata": {
        "id": "t0cC8SWKLw7o",
        "colab_type": "code",
        "colab": {
          "base_uri": "https://localhost:8080/",
          "height": 72
        },
        "outputId": "c31cc05e-9bfb-4369-87c0-50efb1a45774"
      },
      "source": [
        "print(url[0:5000])"
      ],
      "execution_count": null,
      "outputs": [
        {
          "output_type": "stream",
          "text": [
            "<!doctype html> <html lang=\"en\"><head><meta http-equiv=\"Content-type\" content=\"text/html; charset=utf-8\"><title>Property Rates in Patna - 2020 - Real Estate Property Price & Trends in Patna</title><meta name=\"description\" content=\"2020 Property Rates in Patna - Search for residential property price & real estate trends & Compare area wise property rates across Patna. Check Property Index Patna on Makaan.com.\"><meta name=\"keywords\" content=\"Property rates in Patna, Property trends in Patna, Patna property rates, Patna property rates area wise, Patna property price, real estate trends in Patna, Patna property rates sector wise\"><meta name=\"theme-color\" content=\"#fff\" id=\"themeColor\"><meta content=\"origin\" name=\"referrer\"><meta name=\"p:domain_verify\" content=\"55ce01b3ca93c05fd5a41439a23dd0d9\"><meta name=\"fb:pages\" content=\"155462194517712\"><meta name=\"country\" content=\"India\"><meta name=\"og:type\" content=\"website\"><meta name=\"og:site_name\" content=\"Makaan.com\"><meta name=\"og:image:url\" content=\"http://static.makaan.com/6/44/355/patna-heroshot-2970771.jpeg\"><meta name=\"viewport\" content=\"minimum-scale=1.0, width=device-width, initial-scale=1.0, maximum-scale=5.0\"><meta name=\"og:title\" content=\"Property Rates in Patna - 2020 - Real Estate Property Price & Trends in Patna\"><meta name=\"Author\" content=\"Makaan.com\"><meta name=\"robots\" content=\"index, follow\"><meta name=\"og:url\" content=\"https://www.makaan.com/price-trends/property-rates-for-buy-in-patna\"><meta name=\"googlebot\" content=\"all\"><meta name=\"og:description\" content=\"2020 Property Rates in Patna - Search for residential property price & real estate trends & Compare area wise property rates across Patna. Check Property Index Patna on Makaan.com.\"><meta name=\"og:image:secure_url\" content=\"https://static.makaan.com/6/44/355/patna-heroshot-2970771.jpeg\"><link rel=\"preload\" href=\"//static.makaan.com/scripts/vendor/require.min.js\" as=\"script\"><link rel=\"preload\" href=\"//static.makaan.com/scripts/main.968df9f2.js\" as=\"script\"><link rel=\"preload\" href=\"//static.makaan.com/scripts/infra.a7ac1784.js\" as=\"script\"><link rel=\"preload\" href=\"//static.makaan.com/scripts/dependency/commonBundle.cbc8f6e0.js\" as=\"script\"><link rel=\"preload\" href=\"//static.makaan.com/scripts/app.5aee80ee.js\" as=\"script\"><link rel=\"amphtml\" href=\"https://www.makaan.com/lite/price-trends/property-rates-for-buy-in-patna\"><meta name=\"twitter:card\" content=\"summary\"><meta name=\"twitter:site\" content=\"@Makaan\"><meta name=\"twitter:creator\" content=\"@Makaan\"><meta itemprop=\"name\" content=\"Makaan\"><meta itemprop=\"description\" content=\"2020 Property Rates in Patna - Search for residential property price &amp; real estate trends &amp; Compare area wise property rates across Patna. Check Property Index Patna on Makaan.com.\"><meta itemprop=\"image\" content=\"http://static.makaan.com/6/44/355/patna-heroshot-2970771.jpeg\"><link rel=\"apple-touch-icon-precomposed\" sizes=\"180x180\" href=\"//static.makaan.com/apple-touch-icon-precomposed.png\"><link rel=\"apple-touch-icon-precomposed\" sizes=\"152x152\" href=\"//static.makaan.com/apple-touch-icon-152x152-precomposed.png\"><link rel=\"apple-touch-icon-precomposed\" sizes=\"120x120\" href=\"//static.makaan.com/apple-touch-icon-120x120-precomposed.png\"><link rel=\"apple-touch-icon-precomposed\" sizes=\"76x76\" href=\"//static.makaan.com/apple-touch-icon-76x76-precomposed.png\"><link rel=\"apple-touch-icon-precomposed\" sizes=\"72x72\" href=\"//static.makaan.com/apple-touch-icon-72x72-precomposed.png\"><link rel=\"shortcut icon\" href=\"//static.makaan.com/apple-touch-icon.png\"><link href=\"//content.makaan.com\" rel=\"preconnect\"><link href=\"//www.google-analytics.com\" rel=\"preconnect\"><link href=\"//static.makaan.com\" rel=\"preconnect\"><link href=\"//static.makaan.com\" rel=\"preconnect\"><link href=\"https://www.makaan.com/price-trends/property-rates-for-buy-in-patna\" rel=\"canonical\"><link rel=\"alternate\" hreflang=\"en\" href=\"https://www.makaan.com/price-trends/property-rates-for-buy-in-patna\"><link rel=\"alternate\" hreflang=\"hi\" href=\"https://www.makaan.com/hi-in/price-trends/property-rates-for-buy-in-patna\"><link href=\"https://www.makaan.com/price-trends/property-rates-for-buy-in-patna?page=2\" rel=\"next\"><link rel=\"preload\" href=\"//static.makaan.com/fonts/icomoon.ce5604b1.woff2\" as=\"font\" type=\"font/woff2\" crossorigin><style>\n",
            ".multiloclity-search-wrap .tag-wrap .srched-tag.no-close-tag:hover .close,.txtbtn.disabled,a.btn.disabled,fieldset[disabled] a.btn{pointer-events:none}body,figure{margin:0}hr,legend{margin-bottom:20px}html{font-family:sans-serif;-ms-text-size-adjust:100%;-webkit-text-size-adjust:100%}article,aside,details,figcaption,figure,footer,header,hgroup,main,menu,nav,section,summary{display:block}audio,canvas,progress,video{display:inline-block;vertical-align:baseline}audio:not([controls]){display:none;height:0}[hidden],template{display:none}a{background-color:transparent;color:#337ab7;text-decoration:none}.img-thumbnail,body{background-color:#fff}a:active,a:hover{outline:0}b,strong{font-\n"
          ],
          "name": "stdout"
        }
      ]
    },
    {
      "cell_type": "markdown",
      "metadata": {
        "id": "upq18hQHL9iP",
        "colab_type": "text"
      },
      "source": [
        "Installing bs4 library for cleaning the html code"
      ]
    },
    {
      "cell_type": "code",
      "metadata": {
        "id": "SjyxKXdRKG5A",
        "colab_type": "code",
        "colab": {
          "base_uri": "https://localhost:8080/",
          "height": 52
        },
        "outputId": "5ab18441-f981-4d17-a1bc-368ccd8f229a"
      },
      "source": [
        "!pip install bs4"
      ],
      "execution_count": null,
      "outputs": [
        {
          "output_type": "stream",
          "text": [
            "Requirement already satisfied: bs4 in /usr/local/lib/python3.6/dist-packages (0.0.1)\n",
            "Requirement already satisfied: beautifulsoup4 in /usr/local/lib/python3.6/dist-packages (from bs4) (4.6.3)\n"
          ],
          "name": "stdout"
        }
      ]
    },
    {
      "cell_type": "markdown",
      "metadata": {
        "id": "hlNkyVagMJMb",
        "colab_type": "text"
      },
      "source": [
        "Importing BeautifulSoup from bs4 library"
      ]
    },
    {
      "cell_type": "code",
      "metadata": {
        "id": "rv5QfnZ0KYbl",
        "colab_type": "code",
        "colab": {}
      },
      "source": [
        "from bs4 import BeautifulSoup as bs"
      ],
      "execution_count": null,
      "outputs": []
    },
    {
      "cell_type": "code",
      "metadata": {
        "id": "q0HLLH2BKf4f",
        "colab_type": "code",
        "colab": {}
      },
      "source": [
        "g_url = bs(url,'html.parser')"
      ],
      "execution_count": null,
      "outputs": []
    },
    {
      "cell_type": "code",
      "metadata": {
        "id": "uZ5oKaO-KtIo",
        "colab_type": "code",
        "colab": {}
      },
      "source": [
        "table = g_url.find('table',{'class':'tbl'})\n"
      ],
      "execution_count": null,
      "outputs": []
    },
    {
      "cell_type": "code",
      "metadata": {
        "id": "RzyVEfSCMdPs",
        "colab_type": "code",
        "colab": {
          "base_uri": "https://localhost:8080/",
          "height": 55
        },
        "outputId": "19ad3810-75e2-4115-8446-aca45515c8ff"
      },
      "source": [
        "print(table.text[0:2000])"
      ],
      "execution_count": null,
      "outputs": [
        {
          "output_type": "stream",
          "text": [
            "Locality NameBuy Rates{\"city\":\"Patna\",\"typeAheadType\":\"locality\",\"templatePath\":\"doT!modules/typeAhead/views/locality\",\"rows\":5,\"includeGoogplePlace\":true,\"includeSuggestion\":true,\"placeholder\":\"search locality in patna\"}Price range per sqftAvg price per sqftPrice riseTrendView propertiesBihta---See trendView  propertiesIIT BIHTA---See trendView  propertiesDanapur 1,231 - 4,191 / sqft 3,850.77 / sqft-34.7%See trendView 45 propertiesBailey Road 3,000 - 6,095 / sqft 5,469.04 / sqft20.2%See trendView 38 propertiesSaguna More 2,286 - 5,301 / sqft 4,275.39 / sqft-See trendView 36 propertiesDanapur Nizamat 3,167 - 8,333 / sqft 6,756.1 / sqft-See trendView 10 propertiesPhulwari Sharif 3,750 - 6,276 / sqft 4,591.95 / sqft10.9%See trendView 3 propertiesGola Road 3,443 - 8,191 / sqft 6,383.82 / sqft51.8%See trendView 17 propertiesBihta Road---See trendView  propertiesAIIMS Patna Road 3,750 - 4,553 / sqft 4,248.92 / sqft-See trendView 5 propertiesShivala Par---See trendView  propertiesAnisabad 3,721 - 4,725 / sqft 4,226.66 / sqft-38.4%See trendView 6 propertiesAnand Bazar Main Road---See trendView  propertiesRukanpura 4,627 - 6,563 / sqft 5,387.5 / sqft-See trendView 3 propertiesChirora---See trendView  propertiesKhagaul Road 2,286 - 8,837 / sqft 4,979.95 / sqft-4.3%See trendView 11 propertiesNaubatpur Bikram Road---See trendView  propertiesBihta Kanpa Road---See trendView  propertiesKumhrar--13.8%See trendView  propertiesSaguna Danapur Main Road 3,065 - 4,889 / sqft 4,852.05 / sqft-3.2%See trendView 9 propertiesShiwala Khagaul Road 2,384 - 2,525 / sqft 2,524.76 / sqft57.8%See trendView 2 propertiesAshiana Digha Road 3,770 - 5,909 / sqft 4,736.94 / sqft34.5%See trendView 4 propertiesBairiya 3,230 / sqft 3,230.15 / sqft-See trendView 1 propertiesKhagaul Danapur Road 3,488 - 5,382 / sqft 4,299.84 / sqft-2.9%See trendView 6 propertiesPatliputra Station Road 3,800 / sqft 3,800.14 / sqft-21.7%See trendView 1 propertiesPatliputra Colony 4,123 - 5,882 / sqft 4,644.15 / sqft21.3%See t\n"
          ],
          "name": "stdout"
        }
      ]
    },
    {
      "cell_type": "code",
      "metadata": {
        "id": "xAg-FDcLUeiz",
        "colab_type": "code",
        "colab": {
          "base_uri": "https://localhost:8080/",
          "height": 35
        },
        "outputId": "a13bb141-3fc0-45ca-b89f-74a3a3e05408"
      },
      "source": [
        "type(table.text)"
      ],
      "execution_count": null,
      "outputs": [
        {
          "output_type": "execute_result",
          "data": {
            "text/plain": [
              "str"
            ]
          },
          "metadata": {
            "tags": []
          },
          "execution_count": 11
        }
      ]
    },
    {
      "cell_type": "code",
      "metadata": {
        "id": "CGjY9sW2Uevn",
        "colab_type": "code",
        "colab": {}
      },
      "source": [
        ""
      ],
      "execution_count": null,
      "outputs": []
    },
    {
      "cell_type": "markdown",
      "metadata": {
        "id": "LQQ2I_SMMYkI",
        "colab_type": "text"
      },
      "source": [
        "Importing pandas library for furthure cleaning."
      ]
    },
    {
      "cell_type": "code",
      "metadata": {
        "id": "MSC-1IHxUe5W",
        "colab_type": "code",
        "colab": {}
      },
      "source": [
        "import pandas as pd"
      ],
      "execution_count": null,
      "outputs": []
    },
    {
      "cell_type": "markdown",
      "metadata": {
        "id": "HpvN7_o9Mgvh",
        "colab_type": "text"
      },
      "source": [
        "Creating a zero size dataframe of name patna_data to store my data"
      ]
    },
    {
      "cell_type": "code",
      "metadata": {
        "id": "ur5yYlMeXUsF",
        "colab_type": "code",
        "colab": {
          "base_uri": "https://localhost:8080/",
          "height": 79
        },
        "outputId": "40c7eedb-ed92-4397-a4fe-c094eba39eff"
      },
      "source": [
        " patna_data=pd.DataFrame({''})\n",
        "patna_data"
      ],
      "execution_count": null,
      "outputs": [
        {
          "output_type": "execute_result",
          "data": {
            "text/html": [
              "<div>\n",
              "<style scoped>\n",
              "    .dataframe tbody tr th:only-of-type {\n",
              "        vertical-align: middle;\n",
              "    }\n",
              "\n",
              "    .dataframe tbody tr th {\n",
              "        vertical-align: top;\n",
              "    }\n",
              "\n",
              "    .dataframe thead th {\n",
              "        text-align: right;\n",
              "    }\n",
              "</style>\n",
              "<table border=\"1\" class=\"dataframe\">\n",
              "  <thead>\n",
              "    <tr style=\"text-align: right;\">\n",
              "      <th></th>\n",
              "      <th>0</th>\n",
              "    </tr>\n",
              "  </thead>\n",
              "  <tbody>\n",
              "    <tr>\n",
              "      <th>0</th>\n",
              "      <td></td>\n",
              "    </tr>\n",
              "  </tbody>\n",
              "</table>\n",
              "</div>"
            ],
            "text/plain": [
              "  0\n",
              "0  "
            ]
          },
          "metadata": {
            "tags": []
          },
          "execution_count": 13
        }
      ]
    },
    {
      "cell_type": "code",
      "metadata": {
        "id": "-nE-5nU7XUvZ",
        "colab_type": "code",
        "colab": {}
      },
      "source": [
        ""
      ],
      "execution_count": null,
      "outputs": []
    },
    {
      "cell_type": "markdown",
      "metadata": {
        "id": "zunebDOj05vf",
        "colab_type": "text"
      },
      "source": [
        "Extracting useful data from HTML code."
      ]
    },
    {
      "cell_type": "code",
      "metadata": {
        "id": "kPSp7c5BNquk",
        "colab_type": "code",
        "colab": {
          "base_uri": "https://localhost:8080/",
          "height": 202
        },
        "outputId": "3eab7917-bea0-430f-9570-e6940c1cf727"
      },
      "source": [
        "l=[]\n",
        "k=[]\n",
        "for a in table.findAll('tr',{}):\n",
        "    for b in a.findAll('td',{'class':\"ta-l\"}):\n",
        "      #print(b.text)\n",
        "        l.append(b.text)\n",
        "    for c in a.findAll('td',{'class':\"ta-r\"}):\n",
        "      k.append(c.text)    \n",
        "        \n",
        "type(b.text)\n",
        "patna_data = pd.DataFrame(l,columns=['borough'])\n",
        "patna_data.head()"
      ],
      "execution_count": null,
      "outputs": [
        {
          "output_type": "execute_result",
          "data": {
            "text/html": [
              "<div>\n",
              "<style scoped>\n",
              "    .dataframe tbody tr th:only-of-type {\n",
              "        vertical-align: middle;\n",
              "    }\n",
              "\n",
              "    .dataframe tbody tr th {\n",
              "        vertical-align: top;\n",
              "    }\n",
              "\n",
              "    .dataframe thead th {\n",
              "        text-align: right;\n",
              "    }\n",
              "</style>\n",
              "<table border=\"1\" class=\"dataframe\">\n",
              "  <thead>\n",
              "    <tr style=\"text-align: right;\">\n",
              "      <th></th>\n",
              "      <th>borough</th>\n",
              "    </tr>\n",
              "  </thead>\n",
              "  <tbody>\n",
              "    <tr>\n",
              "      <th>0</th>\n",
              "      <td>Bihta</td>\n",
              "    </tr>\n",
              "    <tr>\n",
              "      <th>1</th>\n",
              "      <td>IIT BIHTA</td>\n",
              "    </tr>\n",
              "    <tr>\n",
              "      <th>2</th>\n",
              "      <td>Danapur</td>\n",
              "    </tr>\n",
              "    <tr>\n",
              "      <th>3</th>\n",
              "      <td>Bailey Road</td>\n",
              "    </tr>\n",
              "    <tr>\n",
              "      <th>4</th>\n",
              "      <td>Saguna More</td>\n",
              "    </tr>\n",
              "  </tbody>\n",
              "</table>\n",
              "</div>"
            ],
            "text/plain": [
              "       borough\n",
              "0        Bihta\n",
              "1    IIT BIHTA\n",
              "2      Danapur\n",
              "3  Bailey Road\n",
              "4  Saguna More"
            ]
          },
          "metadata": {
            "tags": []
          },
          "execution_count": 14
        }
      ]
    },
    {
      "cell_type": "code",
      "metadata": {
        "id": "cAn7uUoScES5",
        "colab_type": "code",
        "colab": {
          "base_uri": "https://localhost:8080/",
          "height": 355
        },
        "outputId": "979d4ca2-151f-4a1d-915a-b8497e1cac2d"
      },
      "source": [
        "patna_data['avg_price']=pd.DataFrame(k[1::2])\n",
        "patna_data.head(10)"
      ],
      "execution_count": null,
      "outputs": [
        {
          "output_type": "execute_result",
          "data": {
            "text/html": [
              "<div>\n",
              "<style scoped>\n",
              "    .dataframe tbody tr th:only-of-type {\n",
              "        vertical-align: middle;\n",
              "    }\n",
              "\n",
              "    .dataframe tbody tr th {\n",
              "        vertical-align: top;\n",
              "    }\n",
              "\n",
              "    .dataframe thead th {\n",
              "        text-align: right;\n",
              "    }\n",
              "</style>\n",
              "<table border=\"1\" class=\"dataframe\">\n",
              "  <thead>\n",
              "    <tr style=\"text-align: right;\">\n",
              "      <th></th>\n",
              "      <th>borough</th>\n",
              "      <th>avg_price</th>\n",
              "    </tr>\n",
              "  </thead>\n",
              "  <tbody>\n",
              "    <tr>\n",
              "      <th>0</th>\n",
              "      <td>Bihta</td>\n",
              "      <td>-</td>\n",
              "    </tr>\n",
              "    <tr>\n",
              "      <th>1</th>\n",
              "      <td>IIT BIHTA</td>\n",
              "      <td>-</td>\n",
              "    </tr>\n",
              "    <tr>\n",
              "      <th>2</th>\n",
              "      <td>Danapur</td>\n",
              "      <td>3,850.77 / sqft</td>\n",
              "    </tr>\n",
              "    <tr>\n",
              "      <th>3</th>\n",
              "      <td>Bailey Road</td>\n",
              "      <td>5,469.04 / sqft</td>\n",
              "    </tr>\n",
              "    <tr>\n",
              "      <th>4</th>\n",
              "      <td>Saguna More</td>\n",
              "      <td>4,275.39 / sqft</td>\n",
              "    </tr>\n",
              "    <tr>\n",
              "      <th>5</th>\n",
              "      <td>Danapur Nizamat</td>\n",
              "      <td>6,756.1 / sqft</td>\n",
              "    </tr>\n",
              "    <tr>\n",
              "      <th>6</th>\n",
              "      <td>Phulwari Sharif</td>\n",
              "      <td>4,591.95 / sqft</td>\n",
              "    </tr>\n",
              "    <tr>\n",
              "      <th>7</th>\n",
              "      <td>Gola Road</td>\n",
              "      <td>6,383.82 / sqft</td>\n",
              "    </tr>\n",
              "    <tr>\n",
              "      <th>8</th>\n",
              "      <td>Bihta Road</td>\n",
              "      <td>-</td>\n",
              "    </tr>\n",
              "    <tr>\n",
              "      <th>9</th>\n",
              "      <td>AIIMS Patna Road</td>\n",
              "      <td>4,248.92 / sqft</td>\n",
              "    </tr>\n",
              "  </tbody>\n",
              "</table>\n",
              "</div>"
            ],
            "text/plain": [
              "            borough         avg_price\n",
              "0             Bihta                 -\n",
              "1         IIT BIHTA                 -\n",
              "2           Danapur   3,850.77 / sqft\n",
              "3       Bailey Road   5,469.04 / sqft\n",
              "4       Saguna More   4,275.39 / sqft\n",
              "5   Danapur Nizamat    6,756.1 / sqft\n",
              "6   Phulwari Sharif   4,591.95 / sqft\n",
              "7         Gola Road   6,383.82 / sqft\n",
              "8        Bihta Road                 -\n",
              "9  AIIMS Patna Road   4,248.92 / sqft"
            ]
          },
          "metadata": {
            "tags": []
          },
          "execution_count": 15
        }
      ]
    },
    {
      "cell_type": "code",
      "metadata": {
        "id": "-V0JakvUWuOh",
        "colab_type": "code",
        "colab": {}
      },
      "source": [
        ""
      ],
      "execution_count": null,
      "outputs": []
    },
    {
      "cell_type": "markdown",
      "metadata": {
        "id": "X57mkaB21DwP",
        "colab_type": "text"
      },
      "source": [
        "**Installing geopandas and geopy for further use.**"
      ]
    },
    {
      "cell_type": "code",
      "metadata": {
        "id": "-ANqrD4TsxwR",
        "colab_type": "code",
        "colab": {
          "base_uri": "https://localhost:8080/",
          "height": 505
        },
        "outputId": "fe159f68-ba0c-41b1-ae61-7150c9176cdf"
      },
      "source": [
        "!pip install geopandas\n",
        "!pip install geopy"
      ],
      "execution_count": null,
      "outputs": [
        {
          "output_type": "stream",
          "text": [
            "Collecting geopandas\n",
            "\u001b[?25l  Downloading https://files.pythonhosted.org/packages/f7/a4/e66aafbefcbb717813bf3a355c8c4fc3ed04ea1dd7feb2920f2f4f868921/geopandas-0.8.1-py2.py3-none-any.whl (962kB)\n",
            "\u001b[K     |████████████████████████████████| 972kB 2.7MB/s \n",
            "\u001b[?25hRequirement already satisfied: shapely in /usr/local/lib/python3.6/dist-packages (from geopandas) (1.7.0)\n",
            "Collecting pyproj>=2.2.0\n",
            "\u001b[?25l  Downloading https://files.pythonhosted.org/packages/e5/c3/071e080230ac4b6c64f1a2e2f9161c9737a2bc7b683d2c90b024825000c0/pyproj-2.6.1.post1-cp36-cp36m-manylinux2010_x86_64.whl (10.9MB)\n",
            "\u001b[K     |████████████████████████████████| 10.9MB 17.0MB/s \n",
            "\u001b[?25hRequirement already satisfied: pandas>=0.23.0 in /usr/local/lib/python3.6/dist-packages (from geopandas) (1.0.5)\n",
            "Collecting fiona\n",
            "\u001b[?25l  Downloading https://files.pythonhosted.org/packages/ec/20/4e63bc5c6e62df889297b382c3ccd4a7a488b00946aaaf81a118158c6f09/Fiona-1.8.13.post1-cp36-cp36m-manylinux1_x86_64.whl (14.7MB)\n",
            "\u001b[K     |████████████████████████████████| 14.7MB 299kB/s \n",
            "\u001b[?25hRequirement already satisfied: pytz>=2017.2 in /usr/local/lib/python3.6/dist-packages (from pandas>=0.23.0->geopandas) (2018.9)\n",
            "Requirement already satisfied: numpy>=1.13.3 in /usr/local/lib/python3.6/dist-packages (from pandas>=0.23.0->geopandas) (1.18.5)\n",
            "Requirement already satisfied: python-dateutil>=2.6.1 in /usr/local/lib/python3.6/dist-packages (from pandas>=0.23.0->geopandas) (2.8.1)\n",
            "Requirement already satisfied: click<8,>=4.0 in /usr/local/lib/python3.6/dist-packages (from fiona->geopandas) (7.1.2)\n",
            "Collecting click-plugins>=1.0\n",
            "  Downloading https://files.pythonhosted.org/packages/e9/da/824b92d9942f4e472702488857914bdd50f73021efea15b4cad9aca8ecef/click_plugins-1.1.1-py2.py3-none-any.whl\n",
            "Collecting munch\n",
            "  Downloading https://files.pythonhosted.org/packages/cc/ab/85d8da5c9a45e072301beb37ad7f833cd344e04c817d97e0cc75681d248f/munch-2.5.0-py2.py3-none-any.whl\n",
            "Collecting cligj>=0.5\n",
            "  Downloading https://files.pythonhosted.org/packages/e4/be/30a58b4b0733850280d01f8bd132591b4668ed5c7046761098d665ac2174/cligj-0.5.0-py3-none-any.whl\n",
            "Requirement already satisfied: six>=1.7 in /usr/local/lib/python3.6/dist-packages (from fiona->geopandas) (1.15.0)\n",
            "Requirement already satisfied: attrs>=17 in /usr/local/lib/python3.6/dist-packages (from fiona->geopandas) (19.3.0)\n",
            "Installing collected packages: pyproj, click-plugins, munch, cligj, fiona, geopandas\n",
            "Successfully installed click-plugins-1.1.1 cligj-0.5.0 fiona-1.8.13.post1 geopandas-0.8.1 munch-2.5.0 pyproj-2.6.1.post1\n",
            "Requirement already satisfied: geopy in /usr/local/lib/python3.6/dist-packages (1.17.0)\n",
            "Requirement already satisfied: geographiclib<2,>=1.49 in /usr/local/lib/python3.6/dist-packages (from geopy) (1.50)\n"
          ],
          "name": "stdout"
        }
      ]
    },
    {
      "cell_type": "code",
      "metadata": {
        "id": "DJL9bLQH1hwO",
        "colab_type": "code",
        "colab": {}
      },
      "source": [
        "from geopy.geocoders import Nominatim"
      ],
      "execution_count": null,
      "outputs": []
    },
    {
      "cell_type": "code",
      "metadata": {
        "id": "ulW3GRfVsyjN",
        "colab_type": "code",
        "colab": {}
      },
      "source": [
        "locator = Nominatim(user_agent=\"myGeocoder\")\n",
        "location = locator.geocode(\"Champ de Mars, Paris, France\")\n",
        "location1=locator.geocode('Patna Sahib, Patna, Bihar')"
      ],
      "execution_count": null,
      "outputs": []
    },
    {
      "cell_type": "code",
      "metadata": {
        "id": "W-t6CFu0tJCc",
        "colab_type": "code",
        "colab": {
          "base_uri": "https://localhost:8080/",
          "height": 35
        },
        "outputId": "79860530-dc85-439c-c7af-23ce872e8a58"
      },
      "source": [
        "print(\"Latitude = {}, Longitude = {}\".format(location1.latitude, location1.longitude))"
      ],
      "execution_count": null,
      "outputs": [
        {
          "output_type": "stream",
          "text": [
            "Latitude = 25.5859403, Longitude = 85.2306381\n"
          ],
          "name": "stdout"
        }
      ]
    },
    {
      "cell_type": "markdown",
      "metadata": {
        "id": "tmde5_OK1XWU",
        "colab_type": "text"
      },
      "source": [
        "Now it is time to find latitude and longitude of given address with the help of suitable library."
      ]
    },
    {
      "cell_type": "code",
      "metadata": {
        "id": "-0SM-PwGt4iE",
        "colab_type": "code",
        "colab": {}
      },
      "source": [
        "lat=[]\n",
        "lon=[]\n",
        "z=-1\n",
        "patna_data_d=patna_data\n",
        "for i in patna_data_d['borough']:\n",
        "  z=z+1\n",
        "  j=[i] + [' Patna'] + [' Bihar']\n",
        "  k=','.join(j)\n",
        "  location = locator.geocode(k)\n",
        "  if location is not None: \n",
        "    #l1=location.latitude\n",
        "    #l2=location.longitude\n",
        "    lat.append(location.latitude)\n",
        "    lon.append(location.longitude)\n",
        "  else:\n",
        "    patna_data.drop(z,inplace=True,axis=0)\n",
        "patna_data['latitude'] = pd.DataFrame(lat)\n",
        "patna_data['longitude'] = pd.DataFrame(lon)\n"
      ],
      "execution_count": null,
      "outputs": []
    },
    {
      "cell_type": "code",
      "metadata": {
        "id": "NlrEGG02M484",
        "colab_type": "code",
        "colab": {
          "base_uri": "https://localhost:8080/",
          "height": 969
        },
        "outputId": "84f833ff-1024-491d-c3bd-9e1633408cfb"
      },
      "source": [
        "patna_data.reset_index(drop=True)"
      ],
      "execution_count": null,
      "outputs": [
        {
          "output_type": "execute_result",
          "data": {
            "text/html": [
              "<div>\n",
              "<style scoped>\n",
              "    .dataframe tbody tr th:only-of-type {\n",
              "        vertical-align: middle;\n",
              "    }\n",
              "\n",
              "    .dataframe tbody tr th {\n",
              "        vertical-align: top;\n",
              "    }\n",
              "\n",
              "    .dataframe thead th {\n",
              "        text-align: right;\n",
              "    }\n",
              "</style>\n",
              "<table border=\"1\" class=\"dataframe\">\n",
              "  <thead>\n",
              "    <tr style=\"text-align: right;\">\n",
              "      <th></th>\n",
              "      <th>borough</th>\n",
              "      <th>avg_price</th>\n",
              "      <th>latitude</th>\n",
              "      <th>longitude</th>\n",
              "    </tr>\n",
              "  </thead>\n",
              "  <tbody>\n",
              "    <tr>\n",
              "      <th>0</th>\n",
              "      <td>Bihta</td>\n",
              "      <td>-</td>\n",
              "      <td>25.561830</td>\n",
              "      <td>84.866519</td>\n",
              "    </tr>\n",
              "    <tr>\n",
              "      <th>1</th>\n",
              "      <td>IIT BIHTA</td>\n",
              "      <td>-</td>\n",
              "      <td>25.532534</td>\n",
              "      <td>84.851705</td>\n",
              "    </tr>\n",
              "    <tr>\n",
              "      <th>2</th>\n",
              "      <td>Danapur</td>\n",
              "      <td>3,850.77 / sqft</td>\n",
              "      <td>25.635890</td>\n",
              "      <td>85.047404</td>\n",
              "    </tr>\n",
              "    <tr>\n",
              "      <th>3</th>\n",
              "      <td>Bailey Road</td>\n",
              "      <td>5,469.04 / sqft</td>\n",
              "      <td>25.610941</td>\n",
              "      <td>85.130365</td>\n",
              "    </tr>\n",
              "    <tr>\n",
              "      <th>4</th>\n",
              "      <td>Phulwari Sharif</td>\n",
              "      <td>4,591.95 / sqft</td>\n",
              "      <td>25.561830</td>\n",
              "      <td>84.866519</td>\n",
              "    </tr>\n",
              "    <tr>\n",
              "      <th>5</th>\n",
              "      <td>Gola Road</td>\n",
              "      <td>6,383.82 / sqft</td>\n",
              "      <td>25.621772</td>\n",
              "      <td>85.097105</td>\n",
              "    </tr>\n",
              "    <tr>\n",
              "      <th>6</th>\n",
              "      <td>Bihta Road</td>\n",
              "      <td>-</td>\n",
              "      <td>25.579679</td>\n",
              "      <td>85.042441</td>\n",
              "    </tr>\n",
              "    <tr>\n",
              "      <th>7</th>\n",
              "      <td>AIIMS Patna Road</td>\n",
              "      <td>4,248.92 / sqft</td>\n",
              "      <td>25.502662</td>\n",
              "      <td>84.865381</td>\n",
              "    </tr>\n",
              "    <tr>\n",
              "      <th>8</th>\n",
              "      <td>Khagaul Road</td>\n",
              "      <td>4,979.95 / sqft</td>\n",
              "      <td>25.610979</td>\n",
              "      <td>85.120865</td>\n",
              "    </tr>\n",
              "    <tr>\n",
              "      <th>9</th>\n",
              "      <td>Bihta Kanpa Road</td>\n",
              "      <td>-</td>\n",
              "      <td>25.582352</td>\n",
              "      <td>85.047877</td>\n",
              "    </tr>\n",
              "    <tr>\n",
              "      <th>10</th>\n",
              "      <td>Kumhrar</td>\n",
              "      <td>-</td>\n",
              "      <td>25.644218</td>\n",
              "      <td>85.090734</td>\n",
              "    </tr>\n",
              "    <tr>\n",
              "      <th>11</th>\n",
              "      <td>Ashiana Digha Road</td>\n",
              "      <td>4,736.94 / sqft</td>\n",
              "      <td>25.597810</td>\n",
              "      <td>85.153732</td>\n",
              "    </tr>\n",
              "    <tr>\n",
              "      <th>12</th>\n",
              "      <td>Bairiya</td>\n",
              "      <td>3,230.15 / sqft</td>\n",
              "      <td>25.612184</td>\n",
              "      <td>85.138570</td>\n",
              "    </tr>\n",
              "    <tr>\n",
              "      <th>13</th>\n",
              "      <td>Khagaul Danapur Road</td>\n",
              "      <td>4,299.84 / sqft</td>\n",
              "      <td>25.579679</td>\n",
              "      <td>85.042441</td>\n",
              "    </tr>\n",
              "    <tr>\n",
              "      <th>14</th>\n",
              "      <td>Patliputra Station Road</td>\n",
              "      <td>3,800.14 / sqft</td>\n",
              "      <td>25.660386</td>\n",
              "      <td>84.908940</td>\n",
              "    </tr>\n",
              "    <tr>\n",
              "      <th>15</th>\n",
              "      <td>Boring Road</td>\n",
              "      <td>5,572.16 / sqft</td>\n",
              "      <td>25.585940</td>\n",
              "      <td>85.230638</td>\n",
              "    </tr>\n",
              "    <tr>\n",
              "      <th>16</th>\n",
              "      <td>buddha colony</td>\n",
              "      <td>8,97.78 / sqft</td>\n",
              "      <td>25.527475</td>\n",
              "      <td>85.160422</td>\n",
              "    </tr>\n",
              "    <tr>\n",
              "      <th>17</th>\n",
              "      <td>Danapur Khagaul Road</td>\n",
              "      <td>4,40.4 / sqft</td>\n",
              "      <td>25.588931</td>\n",
              "      <td>85.172996</td>\n",
              "    </tr>\n",
              "    <tr>\n",
              "      <th>18</th>\n",
              "      <td>digha</td>\n",
              "      <td>4,41.15 / sqft</td>\n",
              "      <td>NaN</td>\n",
              "      <td>NaN</td>\n",
              "    </tr>\n",
              "    <tr>\n",
              "      <th>19</th>\n",
              "      <td>Sonepur</td>\n",
              "      <td>-</td>\n",
              "      <td>NaN</td>\n",
              "      <td>NaN</td>\n",
              "    </tr>\n",
              "    <tr>\n",
              "      <th>20</th>\n",
              "      <td>jagdeo path</td>\n",
              "      <td>4,878.02 / sqft</td>\n",
              "      <td>NaN</td>\n",
              "      <td>NaN</td>\n",
              "    </tr>\n",
              "    <tr>\n",
              "      <th>21</th>\n",
              "      <td>kankarbagh</td>\n",
              "      <td>4,893.44 / sqft</td>\n",
              "      <td>NaN</td>\n",
              "      <td>NaN</td>\n",
              "    </tr>\n",
              "    <tr>\n",
              "      <th>22</th>\n",
              "      <td>Fraser Road Area</td>\n",
              "      <td>9,316.77 / sqft</td>\n",
              "      <td>NaN</td>\n",
              "      <td>NaN</td>\n",
              "    </tr>\n",
              "    <tr>\n",
              "      <th>23</th>\n",
              "      <td>Khagaul</td>\n",
              "      <td>5,102.04 / sqft</td>\n",
              "      <td>NaN</td>\n",
              "      <td>NaN</td>\n",
              "    </tr>\n",
              "    <tr>\n",
              "      <th>24</th>\n",
              "      <td>Maner</td>\n",
              "      <td>-</td>\n",
              "      <td>NaN</td>\n",
              "      <td>NaN</td>\n",
              "    </tr>\n",
              "    <tr>\n",
              "      <th>25</th>\n",
              "      <td>Mithapur</td>\n",
              "      <td>2,447.87 / sqft</td>\n",
              "      <td>NaN</td>\n",
              "      <td>NaN</td>\n",
              "    </tr>\n",
              "    <tr>\n",
              "      <th>26</th>\n",
              "      <td>Punpun</td>\n",
              "      <td>-</td>\n",
              "      <td>NaN</td>\n",
              "      <td>NaN</td>\n",
              "    </tr>\n",
              "    <tr>\n",
              "      <th>27</th>\n",
              "      <td>Patna Sahib</td>\n",
              "      <td>5,523.16 / sqft</td>\n",
              "      <td>NaN</td>\n",
              "      <td>NaN</td>\n",
              "    </tr>\n",
              "    <tr>\n",
              "      <th>28</th>\n",
              "      <td>Sampatchak</td>\n",
              "      <td>-</td>\n",
              "      <td>NaN</td>\n",
              "      <td>NaN</td>\n",
              "    </tr>\n",
              "    <tr>\n",
              "      <th>29</th>\n",
              "      <td>Bhootnath Road</td>\n",
              "      <td>-</td>\n",
              "      <td>NaN</td>\n",
              "      <td>NaN</td>\n",
              "    </tr>\n",
              "  </tbody>\n",
              "</table>\n",
              "</div>"
            ],
            "text/plain": [
              "                    borough         avg_price   latitude  longitude\n",
              "0                     Bihta                 -  25.561830  84.866519\n",
              "1                 IIT BIHTA                 -  25.532534  84.851705\n",
              "2                   Danapur   3,850.77 / sqft  25.635890  85.047404\n",
              "3               Bailey Road   5,469.04 / sqft  25.610941  85.130365\n",
              "4           Phulwari Sharif   4,591.95 / sqft  25.561830  84.866519\n",
              "5                 Gola Road   6,383.82 / sqft  25.621772  85.097105\n",
              "6                Bihta Road                 -  25.579679  85.042441\n",
              "7          AIIMS Patna Road   4,248.92 / sqft  25.502662  84.865381\n",
              "8              Khagaul Road   4,979.95 / sqft  25.610979  85.120865\n",
              "9          Bihta Kanpa Road                 -  25.582352  85.047877\n",
              "10                  Kumhrar                 -  25.644218  85.090734\n",
              "11       Ashiana Digha Road   4,736.94 / sqft  25.597810  85.153732\n",
              "12                  Bairiya   3,230.15 / sqft  25.612184  85.138570\n",
              "13     Khagaul Danapur Road   4,299.84 / sqft  25.579679  85.042441\n",
              "14  Patliputra Station Road   3,800.14 / sqft  25.660386  84.908940\n",
              "15              Boring Road   5,572.16 / sqft  25.585940  85.230638\n",
              "16            buddha colony    8,97.78 / sqft  25.527475  85.160422\n",
              "17     Danapur Khagaul Road     4,40.4 / sqft  25.588931  85.172996\n",
              "18                    digha    4,41.15 / sqft        NaN        NaN\n",
              "19                  Sonepur                 -        NaN        NaN\n",
              "20              jagdeo path   4,878.02 / sqft        NaN        NaN\n",
              "21               kankarbagh   4,893.44 / sqft        NaN        NaN\n",
              "22         Fraser Road Area   9,316.77 / sqft        NaN        NaN\n",
              "23                  Khagaul   5,102.04 / sqft        NaN        NaN\n",
              "24                    Maner                 -        NaN        NaN\n",
              "25                 Mithapur   2,447.87 / sqft        NaN        NaN\n",
              "26                   Punpun                 -        NaN        NaN\n",
              "27              Patna Sahib   5,523.16 / sqft        NaN        NaN\n",
              "28               Sampatchak                 -        NaN        NaN\n",
              "29           Bhootnath Road                 -        NaN        NaN"
            ]
          },
          "metadata": {
            "tags": []
          },
          "execution_count": 21
        }
      ]
    },
    {
      "cell_type": "markdown",
      "metadata": {
        "id": "nX8qUqdx1py2",
        "colab_type": "text"
      },
      "source": [
        "Above is the DataFrame with latitude and longitude of address. As we can some rows do not any value in latitude and longitude column, so we have to drop them and make a new df."
      ]
    },
    {
      "cell_type": "code",
      "metadata": {
        "id": "PpMphrTWTYsv",
        "colab_type": "code",
        "colab": {}
      },
      "source": [
        "patna_data_secure=patna_data"
      ],
      "execution_count": null,
      "outputs": []
    },
    {
      "cell_type": "code",
      "metadata": {
        "id": "Rb1rfyTnNBFn",
        "colab_type": "code",
        "colab": {
          "base_uri": "https://localhost:8080/",
          "height": 35
        },
        "outputId": "dcc556ae-74dd-40da-90b0-f3aef7371aea"
      },
      "source": [
        "patna_data_secure.shape"
      ],
      "execution_count": null,
      "outputs": [
        {
          "output_type": "execute_result",
          "data": {
            "text/plain": [
              "(30, 4)"
            ]
          },
          "metadata": {
            "tags": []
          },
          "execution_count": 23
        }
      ]
    },
    {
      "cell_type": "code",
      "metadata": {
        "id": "ZbUfcJT4XMrA",
        "colab_type": "code",
        "colab": {
          "base_uri": "https://localhost:8080/",
          "height": 202
        },
        "outputId": "2d847fbf-1bdb-40c3-b608-4adc1cce4b20"
      },
      "source": [
        "patna_data=patna_data_secure\n",
        "patna_data.head()"
      ],
      "execution_count": null,
      "outputs": [
        {
          "output_type": "execute_result",
          "data": {
            "text/html": [
              "<div>\n",
              "<style scoped>\n",
              "    .dataframe tbody tr th:only-of-type {\n",
              "        vertical-align: middle;\n",
              "    }\n",
              "\n",
              "    .dataframe tbody tr th {\n",
              "        vertical-align: top;\n",
              "    }\n",
              "\n",
              "    .dataframe thead th {\n",
              "        text-align: right;\n",
              "    }\n",
              "</style>\n",
              "<table border=\"1\" class=\"dataframe\">\n",
              "  <thead>\n",
              "    <tr style=\"text-align: right;\">\n",
              "      <th></th>\n",
              "      <th>borough</th>\n",
              "      <th>avg_price</th>\n",
              "      <th>latitude</th>\n",
              "      <th>longitude</th>\n",
              "    </tr>\n",
              "  </thead>\n",
              "  <tbody>\n",
              "    <tr>\n",
              "      <th>0</th>\n",
              "      <td>Bihta</td>\n",
              "      <td>-</td>\n",
              "      <td>25.561830</td>\n",
              "      <td>84.866519</td>\n",
              "    </tr>\n",
              "    <tr>\n",
              "      <th>1</th>\n",
              "      <td>IIT BIHTA</td>\n",
              "      <td>-</td>\n",
              "      <td>25.532534</td>\n",
              "      <td>84.851705</td>\n",
              "    </tr>\n",
              "    <tr>\n",
              "      <th>2</th>\n",
              "      <td>Danapur</td>\n",
              "      <td>3,850.77 / sqft</td>\n",
              "      <td>25.635890</td>\n",
              "      <td>85.047404</td>\n",
              "    </tr>\n",
              "    <tr>\n",
              "      <th>3</th>\n",
              "      <td>Bailey Road</td>\n",
              "      <td>5,469.04 / sqft</td>\n",
              "      <td>25.610941</td>\n",
              "      <td>85.130365</td>\n",
              "    </tr>\n",
              "    <tr>\n",
              "      <th>6</th>\n",
              "      <td>Phulwari Sharif</td>\n",
              "      <td>4,591.95 / sqft</td>\n",
              "      <td>25.561830</td>\n",
              "      <td>84.866519</td>\n",
              "    </tr>\n",
              "  </tbody>\n",
              "</table>\n",
              "</div>"
            ],
            "text/plain": [
              "           borough         avg_price   latitude  longitude\n",
              "0            Bihta                 -  25.561830  84.866519\n",
              "1        IIT BIHTA                 -  25.532534  84.851705\n",
              "2          Danapur   3,850.77 / sqft  25.635890  85.047404\n",
              "3      Bailey Road   5,469.04 / sqft  25.610941  85.130365\n",
              "6  Phulwari Sharif   4,591.95 / sqft  25.561830  84.866519"
            ]
          },
          "metadata": {
            "tags": []
          },
          "execution_count": 24
        }
      ]
    },
    {
      "cell_type": "code",
      "metadata": {
        "id": "C6nOvCqtXaZZ",
        "colab_type": "code",
        "colab": {}
      },
      "source": [
        "patna_data=patna_data[patna_data.iloc[:,1]!='-']"
      ],
      "execution_count": null,
      "outputs": []
    },
    {
      "cell_type": "code",
      "metadata": {
        "id": "dZJ76UxgX1Zm",
        "colab_type": "code",
        "colab": {}
      },
      "source": [
        "patna_data.reset_index(drop=True,inplace=True)"
      ],
      "execution_count": null,
      "outputs": []
    },
    {
      "cell_type": "code",
      "metadata": {
        "id": "oZWMzv5bAo9T",
        "colab_type": "code",
        "colab": {}
      },
      "source": [
        "# k=-1\n",
        "# m='-'\n",
        "# patna_data=patna_data_secure\n",
        "# patna_data_dup=patna_data\n",
        "# for i in patna_data_dup['avg_price']:\n",
        "#   k=k+1\n",
        "  \n",
        "#   if i == m:\n",
        "#     patna_data.drop(patna_data.index[k],inplace=True,axis=0)\n",
        "#   print(patna_data.iloc[k])"
      ],
      "execution_count": null,
      "outputs": []
    },
    {
      "cell_type": "code",
      "metadata": {
        "id": "QgQdk4UIBng7",
        "colab_type": "code",
        "colab": {
          "base_uri": "https://localhost:8080/",
          "height": 355
        },
        "outputId": "3a60ad2a-a8ed-4048-efae-790f30496153"
      },
      "source": [
        "patna_data.head(10)"
      ],
      "execution_count": null,
      "outputs": [
        {
          "output_type": "execute_result",
          "data": {
            "text/html": [
              "<div>\n",
              "<style scoped>\n",
              "    .dataframe tbody tr th:only-of-type {\n",
              "        vertical-align: middle;\n",
              "    }\n",
              "\n",
              "    .dataframe tbody tr th {\n",
              "        vertical-align: top;\n",
              "    }\n",
              "\n",
              "    .dataframe thead th {\n",
              "        text-align: right;\n",
              "    }\n",
              "</style>\n",
              "<table border=\"1\" class=\"dataframe\">\n",
              "  <thead>\n",
              "    <tr style=\"text-align: right;\">\n",
              "      <th></th>\n",
              "      <th>borough</th>\n",
              "      <th>avg_price</th>\n",
              "      <th>latitude</th>\n",
              "      <th>longitude</th>\n",
              "    </tr>\n",
              "  </thead>\n",
              "  <tbody>\n",
              "    <tr>\n",
              "      <th>0</th>\n",
              "      <td>Danapur</td>\n",
              "      <td>3,850.77 / sqft</td>\n",
              "      <td>25.635890</td>\n",
              "      <td>85.047404</td>\n",
              "    </tr>\n",
              "    <tr>\n",
              "      <th>1</th>\n",
              "      <td>Bailey Road</td>\n",
              "      <td>5,469.04 / sqft</td>\n",
              "      <td>25.610941</td>\n",
              "      <td>85.130365</td>\n",
              "    </tr>\n",
              "    <tr>\n",
              "      <th>2</th>\n",
              "      <td>Phulwari Sharif</td>\n",
              "      <td>4,591.95 / sqft</td>\n",
              "      <td>25.561830</td>\n",
              "      <td>84.866519</td>\n",
              "    </tr>\n",
              "    <tr>\n",
              "      <th>3</th>\n",
              "      <td>Gola Road</td>\n",
              "      <td>6,383.82 / sqft</td>\n",
              "      <td>25.621772</td>\n",
              "      <td>85.097105</td>\n",
              "    </tr>\n",
              "    <tr>\n",
              "      <th>4</th>\n",
              "      <td>AIIMS Patna Road</td>\n",
              "      <td>4,248.92 / sqft</td>\n",
              "      <td>25.502662</td>\n",
              "      <td>84.865381</td>\n",
              "    </tr>\n",
              "    <tr>\n",
              "      <th>5</th>\n",
              "      <td>Khagaul Road</td>\n",
              "      <td>4,979.95 / sqft</td>\n",
              "      <td>25.610979</td>\n",
              "      <td>85.120865</td>\n",
              "    </tr>\n",
              "    <tr>\n",
              "      <th>6</th>\n",
              "      <td>Ashiana Digha Road</td>\n",
              "      <td>4,736.94 / sqft</td>\n",
              "      <td>25.597810</td>\n",
              "      <td>85.153732</td>\n",
              "    </tr>\n",
              "    <tr>\n",
              "      <th>7</th>\n",
              "      <td>Bairiya</td>\n",
              "      <td>3,230.15 / sqft</td>\n",
              "      <td>25.612184</td>\n",
              "      <td>85.138570</td>\n",
              "    </tr>\n",
              "    <tr>\n",
              "      <th>8</th>\n",
              "      <td>Khagaul Danapur Road</td>\n",
              "      <td>4,299.84 / sqft</td>\n",
              "      <td>25.579679</td>\n",
              "      <td>85.042441</td>\n",
              "    </tr>\n",
              "    <tr>\n",
              "      <th>9</th>\n",
              "      <td>Patliputra Station Road</td>\n",
              "      <td>3,800.14 / sqft</td>\n",
              "      <td>25.660386</td>\n",
              "      <td>84.908940</td>\n",
              "    </tr>\n",
              "  </tbody>\n",
              "</table>\n",
              "</div>"
            ],
            "text/plain": [
              "                   borough         avg_price   latitude  longitude\n",
              "0                  Danapur   3,850.77 / sqft  25.635890  85.047404\n",
              "1              Bailey Road   5,469.04 / sqft  25.610941  85.130365\n",
              "2          Phulwari Sharif   4,591.95 / sqft  25.561830  84.866519\n",
              "3                Gola Road   6,383.82 / sqft  25.621772  85.097105\n",
              "4         AIIMS Patna Road   4,248.92 / sqft  25.502662  84.865381\n",
              "5             Khagaul Road   4,979.95 / sqft  25.610979  85.120865\n",
              "6       Ashiana Digha Road   4,736.94 / sqft  25.597810  85.153732\n",
              "7                  Bairiya   3,230.15 / sqft  25.612184  85.138570\n",
              "8     Khagaul Danapur Road   4,299.84 / sqft  25.579679  85.042441\n",
              "9  Patliputra Station Road   3,800.14 / sqft  25.660386  84.908940"
            ]
          },
          "metadata": {
            "tags": []
          },
          "execution_count": 28
        }
      ]
    },
    {
      "cell_type": "code",
      "metadata": {
        "id": "CyQTlSqT630N",
        "colab_type": "code",
        "colab": {
          "base_uri": "https://localhost:8080/",
          "height": 325
        },
        "outputId": "f5cd4184-9a37-47fa-8c8d-23815a4ffc05"
      },
      "source": [
        "patna_data1= patna_data.iloc[0:9]\n",
        "patna_data1"
      ],
      "execution_count": null,
      "outputs": [
        {
          "output_type": "execute_result",
          "data": {
            "text/html": [
              "<div>\n",
              "<style scoped>\n",
              "    .dataframe tbody tr th:only-of-type {\n",
              "        vertical-align: middle;\n",
              "    }\n",
              "\n",
              "    .dataframe tbody tr th {\n",
              "        vertical-align: top;\n",
              "    }\n",
              "\n",
              "    .dataframe thead th {\n",
              "        text-align: right;\n",
              "    }\n",
              "</style>\n",
              "<table border=\"1\" class=\"dataframe\">\n",
              "  <thead>\n",
              "    <tr style=\"text-align: right;\">\n",
              "      <th></th>\n",
              "      <th>borough</th>\n",
              "      <th>avg_price</th>\n",
              "      <th>latitude</th>\n",
              "      <th>longitude</th>\n",
              "    </tr>\n",
              "  </thead>\n",
              "  <tbody>\n",
              "    <tr>\n",
              "      <th>0</th>\n",
              "      <td>Danapur</td>\n",
              "      <td>3,850.77 / sqft</td>\n",
              "      <td>25.635890</td>\n",
              "      <td>85.047404</td>\n",
              "    </tr>\n",
              "    <tr>\n",
              "      <th>1</th>\n",
              "      <td>Bailey Road</td>\n",
              "      <td>5,469.04 / sqft</td>\n",
              "      <td>25.610941</td>\n",
              "      <td>85.130365</td>\n",
              "    </tr>\n",
              "    <tr>\n",
              "      <th>2</th>\n",
              "      <td>Phulwari Sharif</td>\n",
              "      <td>4,591.95 / sqft</td>\n",
              "      <td>25.561830</td>\n",
              "      <td>84.866519</td>\n",
              "    </tr>\n",
              "    <tr>\n",
              "      <th>3</th>\n",
              "      <td>Gola Road</td>\n",
              "      <td>6,383.82 / sqft</td>\n",
              "      <td>25.621772</td>\n",
              "      <td>85.097105</td>\n",
              "    </tr>\n",
              "    <tr>\n",
              "      <th>4</th>\n",
              "      <td>AIIMS Patna Road</td>\n",
              "      <td>4,248.92 / sqft</td>\n",
              "      <td>25.502662</td>\n",
              "      <td>84.865381</td>\n",
              "    </tr>\n",
              "    <tr>\n",
              "      <th>5</th>\n",
              "      <td>Khagaul Road</td>\n",
              "      <td>4,979.95 / sqft</td>\n",
              "      <td>25.610979</td>\n",
              "      <td>85.120865</td>\n",
              "    </tr>\n",
              "    <tr>\n",
              "      <th>6</th>\n",
              "      <td>Ashiana Digha Road</td>\n",
              "      <td>4,736.94 / sqft</td>\n",
              "      <td>25.597810</td>\n",
              "      <td>85.153732</td>\n",
              "    </tr>\n",
              "    <tr>\n",
              "      <th>7</th>\n",
              "      <td>Bairiya</td>\n",
              "      <td>3,230.15 / sqft</td>\n",
              "      <td>25.612184</td>\n",
              "      <td>85.138570</td>\n",
              "    </tr>\n",
              "    <tr>\n",
              "      <th>8</th>\n",
              "      <td>Khagaul Danapur Road</td>\n",
              "      <td>4,299.84 / sqft</td>\n",
              "      <td>25.579679</td>\n",
              "      <td>85.042441</td>\n",
              "    </tr>\n",
              "  </tbody>\n",
              "</table>\n",
              "</div>"
            ],
            "text/plain": [
              "                borough         avg_price   latitude  longitude\n",
              "0               Danapur   3,850.77 / sqft  25.635890  85.047404\n",
              "1           Bailey Road   5,469.04 / sqft  25.610941  85.130365\n",
              "2       Phulwari Sharif   4,591.95 / sqft  25.561830  84.866519\n",
              "3             Gola Road   6,383.82 / sqft  25.621772  85.097105\n",
              "4      AIIMS Patna Road   4,248.92 / sqft  25.502662  84.865381\n",
              "5          Khagaul Road   4,979.95 / sqft  25.610979  85.120865\n",
              "6    Ashiana Digha Road   4,736.94 / sqft  25.597810  85.153732\n",
              "7               Bairiya   3,230.15 / sqft  25.612184  85.138570\n",
              "8  Khagaul Danapur Road   4,299.84 / sqft  25.579679  85.042441"
            ]
          },
          "metadata": {
            "tags": []
          },
          "execution_count": 29
        }
      ]
    },
    {
      "cell_type": "markdown",
      "metadata": {
        "id": "Ze44_8V-24kp",
        "colab_type": "text"
      },
      "source": [
        "Now it is time to show above address on map. Here I am using folium library for the that purpose."
      ]
    },
    {
      "cell_type": "code",
      "metadata": {
        "id": "RoeIMhdG6v4M",
        "colab_type": "code",
        "colab": {}
      },
      "source": [
        "import folium"
      ],
      "execution_count": null,
      "outputs": []
    },
    {
      "cell_type": "code",
      "metadata": {
        "id": "7m4gCWURBuv2",
        "colab_type": "code",
        "colab": {
          "base_uri": "https://localhost:8080/",
          "height": 712
        },
        "outputId": "1a0b89fc-a443-4625-83c8-d21a0c2d1165"
      },
      "source": [
        "map_patna = folium.Map(location=[25.612677,85.158875], zoom_start=10)\n",
        "\n",
        "# add markers to map\n",
        "for lat, lng, borough, neighborhood in zip(patna_data1['latitude'], patna_data1['longitude'],'Patna, Bihar',patna_data1['borough']):\n",
        "    label = '{}, {}'.format(neighborhood, borough)\n",
        "    label = folium.Popup(label, parse_html=True)\n",
        "    folium.CircleMarker(\n",
        "        [lat, lng],\n",
        "        radius=5,\n",
        "        popup=label,\n",
        "        color='blue',\n",
        "        fill=True,\n",
        "        fill_color='#3186cc',\n",
        "        fill_opacity=0.7,\n",
        "        parse_html=False).add_to(map_patna)  \n",
        "    \n",
        "map_patna"
      ],
      "execution_count": null,
      "outputs": [
        {
          "output_type": "execute_result",
          "data": {
            "text/html": [
              "<div style=\"width:100%;\"><div style=\"position:relative;width:100%;height:0;padding-bottom:60%;\"><span style=\"color:#565656\">Make this Notebook Trusted to load map: File -> Trust Notebook</span><iframe src=\"about:blank\" style=\"position:absolute;width:100%;height:100%;left:0;top:0;border:none !important;\" data-html=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 onload=\"this.contentDocument.open();this.contentDocument.write(atob(this.getAttribute('data-html')));this.contentDocument.close();\" allowfullscreen webkitallowfullscreen mozallowfullscreen></iframe></div></div>"
            ],
            "text/plain": [
              "<folium.folium.Map at 0x7f17a8732cc0>"
            ]
          },
          "metadata": {
            "tags": []
          },
          "execution_count": 31
        }
      ]
    },
    {
      "cell_type": "code",
      "metadata": {
        "id": "ymvTQPKrKgC8",
        "colab_type": "code",
        "colab": {
          "base_uri": "https://localhost:8080/",
          "height": 662
        },
        "outputId": "252a3447-2cf2-44ba-fac9-c85b9a4e8edb"
      },
      "source": [
        "patna_data"
      ],
      "execution_count": null,
      "outputs": [
        {
          "output_type": "execute_result",
          "data": {
            "text/html": [
              "<div>\n",
              "<style scoped>\n",
              "    .dataframe tbody tr th:only-of-type {\n",
              "        vertical-align: middle;\n",
              "    }\n",
              "\n",
              "    .dataframe tbody tr th {\n",
              "        vertical-align: top;\n",
              "    }\n",
              "\n",
              "    .dataframe thead th {\n",
              "        text-align: right;\n",
              "    }\n",
              "</style>\n",
              "<table border=\"1\" class=\"dataframe\">\n",
              "  <thead>\n",
              "    <tr style=\"text-align: right;\">\n",
              "      <th></th>\n",
              "      <th>borough</th>\n",
              "      <th>avg_price</th>\n",
              "      <th>latitude</th>\n",
              "      <th>longitude</th>\n",
              "    </tr>\n",
              "  </thead>\n",
              "  <tbody>\n",
              "    <tr>\n",
              "      <th>0</th>\n",
              "      <td>Danapur</td>\n",
              "      <td>3,850.77 / sqft</td>\n",
              "      <td>25.635890</td>\n",
              "      <td>85.047404</td>\n",
              "    </tr>\n",
              "    <tr>\n",
              "      <th>1</th>\n",
              "      <td>Bailey Road</td>\n",
              "      <td>5,469.04 / sqft</td>\n",
              "      <td>25.610941</td>\n",
              "      <td>85.130365</td>\n",
              "    </tr>\n",
              "    <tr>\n",
              "      <th>2</th>\n",
              "      <td>Phulwari Sharif</td>\n",
              "      <td>4,591.95 / sqft</td>\n",
              "      <td>25.561830</td>\n",
              "      <td>84.866519</td>\n",
              "    </tr>\n",
              "    <tr>\n",
              "      <th>3</th>\n",
              "      <td>Gola Road</td>\n",
              "      <td>6,383.82 / sqft</td>\n",
              "      <td>25.621772</td>\n",
              "      <td>85.097105</td>\n",
              "    </tr>\n",
              "    <tr>\n",
              "      <th>4</th>\n",
              "      <td>AIIMS Patna Road</td>\n",
              "      <td>4,248.92 / sqft</td>\n",
              "      <td>25.502662</td>\n",
              "      <td>84.865381</td>\n",
              "    </tr>\n",
              "    <tr>\n",
              "      <th>5</th>\n",
              "      <td>Khagaul Road</td>\n",
              "      <td>4,979.95 / sqft</td>\n",
              "      <td>25.610979</td>\n",
              "      <td>85.120865</td>\n",
              "    </tr>\n",
              "    <tr>\n",
              "      <th>6</th>\n",
              "      <td>Ashiana Digha Road</td>\n",
              "      <td>4,736.94 / sqft</td>\n",
              "      <td>25.597810</td>\n",
              "      <td>85.153732</td>\n",
              "    </tr>\n",
              "    <tr>\n",
              "      <th>7</th>\n",
              "      <td>Bairiya</td>\n",
              "      <td>3,230.15 / sqft</td>\n",
              "      <td>25.612184</td>\n",
              "      <td>85.138570</td>\n",
              "    </tr>\n",
              "    <tr>\n",
              "      <th>8</th>\n",
              "      <td>Khagaul Danapur Road</td>\n",
              "      <td>4,299.84 / sqft</td>\n",
              "      <td>25.579679</td>\n",
              "      <td>85.042441</td>\n",
              "    </tr>\n",
              "    <tr>\n",
              "      <th>9</th>\n",
              "      <td>Patliputra Station Road</td>\n",
              "      <td>3,800.14 / sqft</td>\n",
              "      <td>25.660386</td>\n",
              "      <td>84.908940</td>\n",
              "    </tr>\n",
              "    <tr>\n",
              "      <th>10</th>\n",
              "      <td>Boring Road</td>\n",
              "      <td>5,572.16 / sqft</td>\n",
              "      <td>25.585940</td>\n",
              "      <td>85.230638</td>\n",
              "    </tr>\n",
              "    <tr>\n",
              "      <th>11</th>\n",
              "      <td>buddha colony</td>\n",
              "      <td>8,97.78 / sqft</td>\n",
              "      <td>25.527475</td>\n",
              "      <td>85.160422</td>\n",
              "    </tr>\n",
              "    <tr>\n",
              "      <th>12</th>\n",
              "      <td>Danapur Khagaul Road</td>\n",
              "      <td>4,40.4 / sqft</td>\n",
              "      <td>25.588931</td>\n",
              "      <td>85.172996</td>\n",
              "    </tr>\n",
              "    <tr>\n",
              "      <th>13</th>\n",
              "      <td>digha</td>\n",
              "      <td>4,41.15 / sqft</td>\n",
              "      <td>NaN</td>\n",
              "      <td>NaN</td>\n",
              "    </tr>\n",
              "    <tr>\n",
              "      <th>14</th>\n",
              "      <td>jagdeo path</td>\n",
              "      <td>4,878.02 / sqft</td>\n",
              "      <td>NaN</td>\n",
              "      <td>NaN</td>\n",
              "    </tr>\n",
              "    <tr>\n",
              "      <th>15</th>\n",
              "      <td>kankarbagh</td>\n",
              "      <td>4,893.44 / sqft</td>\n",
              "      <td>NaN</td>\n",
              "      <td>NaN</td>\n",
              "    </tr>\n",
              "    <tr>\n",
              "      <th>16</th>\n",
              "      <td>Fraser Road Area</td>\n",
              "      <td>9,316.77 / sqft</td>\n",
              "      <td>NaN</td>\n",
              "      <td>NaN</td>\n",
              "    </tr>\n",
              "    <tr>\n",
              "      <th>17</th>\n",
              "      <td>Khagaul</td>\n",
              "      <td>5,102.04 / sqft</td>\n",
              "      <td>NaN</td>\n",
              "      <td>NaN</td>\n",
              "    </tr>\n",
              "    <tr>\n",
              "      <th>18</th>\n",
              "      <td>Mithapur</td>\n",
              "      <td>2,447.87 / sqft</td>\n",
              "      <td>NaN</td>\n",
              "      <td>NaN</td>\n",
              "    </tr>\n",
              "    <tr>\n",
              "      <th>19</th>\n",
              "      <td>Patna Sahib</td>\n",
              "      <td>5,523.16 / sqft</td>\n",
              "      <td>NaN</td>\n",
              "      <td>NaN</td>\n",
              "    </tr>\n",
              "  </tbody>\n",
              "</table>\n",
              "</div>"
            ],
            "text/plain": [
              "                    borough         avg_price   latitude  longitude\n",
              "0                   Danapur   3,850.77 / sqft  25.635890  85.047404\n",
              "1               Bailey Road   5,469.04 / sqft  25.610941  85.130365\n",
              "2           Phulwari Sharif   4,591.95 / sqft  25.561830  84.866519\n",
              "3                 Gola Road   6,383.82 / sqft  25.621772  85.097105\n",
              "4          AIIMS Patna Road   4,248.92 / sqft  25.502662  84.865381\n",
              "5              Khagaul Road   4,979.95 / sqft  25.610979  85.120865\n",
              "6        Ashiana Digha Road   4,736.94 / sqft  25.597810  85.153732\n",
              "7                   Bairiya   3,230.15 / sqft  25.612184  85.138570\n",
              "8      Khagaul Danapur Road   4,299.84 / sqft  25.579679  85.042441\n",
              "9   Patliputra Station Road   3,800.14 / sqft  25.660386  84.908940\n",
              "10              Boring Road   5,572.16 / sqft  25.585940  85.230638\n",
              "11            buddha colony    8,97.78 / sqft  25.527475  85.160422\n",
              "12     Danapur Khagaul Road     4,40.4 / sqft  25.588931  85.172996\n",
              "13                    digha    4,41.15 / sqft        NaN        NaN\n",
              "14              jagdeo path   4,878.02 / sqft        NaN        NaN\n",
              "15               kankarbagh   4,893.44 / sqft        NaN        NaN\n",
              "16         Fraser Road Area   9,316.77 / sqft        NaN        NaN\n",
              "17                  Khagaul   5,102.04 / sqft        NaN        NaN\n",
              "18                 Mithapur   2,447.87 / sqft        NaN        NaN\n",
              "19              Patna Sahib   5,523.16 / sqft        NaN        NaN"
            ]
          },
          "metadata": {
            "tags": []
          },
          "execution_count": 32
        }
      ]
    },
    {
      "cell_type": "code",
      "metadata": {
        "id": "LkXTogGGcfuW",
        "colab_type": "code",
        "colab": {}
      },
      "source": [
        ""
      ],
      "execution_count": null,
      "outputs": []
    },
    {
      "cell_type": "code",
      "metadata": {
        "id": "Ml1WdpLKIbQ5",
        "colab_type": "code",
        "colab": {}
      },
      "source": [
        "# CLIENT_ID = '**************************' # your Foursquare ID\n",
        "# CLIENT_SECRET = '*************************************' # your Foursquare Secret\n",
        "# VERSION = '20180604'\n",
        "# radius = 2000\n",
        "# LIMIT = 100\n",
        "# venues = []\n",
        "# for lat,long, neighborhood in zip(patna_data1['latitude'], patna_data1['longitude'], patna_data1['borough']):\n",
        "# # Create the API request URL\n",
        "#   url=\"https://api.foursquare.com/v2/venues/explore?client_id={}&client_secret={}&v={}&ll={},{}&radius={}&limit={}\".format(CLIENT_ID, CLIENT_SECRET, VERSION, lat, long, radius, LIMIT)\n",
        "#   #url = https://api.foursquare.com/v2/venues/explore?client_id={\"YXSTZ2XHS04MIRV43DUD31BJZQ4TQXQUD00TV5XNG1LVUGVD\"}&client_secret={\"03UON50NSPGEYH3SN142OG41ONO3AL1H5M2KRMH4BDEPJL4Q\"}&ll={lat},{longi}&v={'20180604'}&radius={2000}&limit={100}\n",
        "#   # Make the GET request\n",
        "#   results =(requests.get(url).json()[\"response\"]['groups'][0]['items'])\n",
        "#   print(results)\n",
        "# # Return only relevant information for each nearby venue\n",
        "# for venue in results:\n",
        "#     venues.append((neighborhood,lat,long,venue['venue']['name'],\n",
        "#     venue['venue']['location']['lat'],venue['venue']['location']['lng'],venue['venue']['categories'][0]['name']))"
      ],
      "execution_count": null,
      "outputs": []
    },
    {
      "cell_type": "markdown",
      "metadata": {
        "id": "L_Q4Ee2R44o2",
        "colab_type": "text"
      },
      "source": [
        "Now we have address and latitude and longitude data, so what next is to get neighborhood data of address like gym, shoping mall, resturent, etc. For this purpose I am using foursquare API because google map API is too costly to handle :)."
      ]
    },
    {
      "cell_type": "code",
      "metadata": {
        "id": "lreaXfsP1OQh",
        "colab_type": "code",
        "colab": {}
      },
      "source": [
        "CLIENT_ID = 'JNFRPNN3X3RC5LU1RTYFB1LSIGJQQB34D0HNYJNVURDSI5RR' # your Foursquare ID\n",
        "CLIENT_SECRET = '3X4WXAAEDJVAFUS4LNE0T21CK0Z2PBUPBLI2H2ENEPL5GYOP' # your Foursquare Secret\n",
        "VERSION = '20180604'\n",
        "radius = 2000\n",
        "LIMIT = 100\n",
        "venues = []\n",
        "results = []\n",
        "for lat, long, neighborhood in zip(patna_data1['latitude'], patna_data1['longitude'], patna_data1['borough']):\n",
        "# Create the API request URL\n",
        "  url = \"https://api.foursquare.com/v2/venues/explore?client_id={}&client_secret={}&v={}&ll={},{}&radius={}&limit={}\".format(CLIENT_ID,CLIENT_SECRET,VERSION,lat,long,radius,LIMIT)\n",
        "# Make the GET request\n",
        "  results =(requests.get(url).json()[\"response\"]['groups'][0]['items'])\n",
        "# Return only relevant information for each nearby venue\n",
        "  for venue in results:\n",
        "    venues.append((neighborhood,lat,long,venue['venue']['name'],\n",
        "    venue['venue']['location']['lat'],venue['venue']['location']    ['lng'],venue['venue']['categories'][0]['name']))"
      ],
      "execution_count": null,
      "outputs": []
    },
    {
      "cell_type": "markdown",
      "metadata": {
        "id": "egrcKDYI6bKv",
        "colab_type": "text"
      },
      "source": [
        ""
      ]
    },
    {
      "cell_type": "code",
      "metadata": {
        "id": "EWqNXytk2Vch",
        "colab_type": "code",
        "colab": {
          "base_uri": "https://localhost:8080/",
          "height": 679
        },
        "outputId": "01175c1d-37cd-4892-e12f-5fcc21020847"
      },
      "source": [
        "venues_df = pd.DataFrame(venues)\n",
        "# Defining the column names\n",
        "venues_df.columns = ['Neighborhood', 'Latitude', 'Longitude', 'VenueName', 'VenueLatitude', 'VenueLongitude', 'VenueCategory']\n",
        "print(venues_df.shape)\n",
        "venues_df.head(20)"
      ],
      "execution_count": null,
      "outputs": [
        {
          "output_type": "stream",
          "text": [
            "(62, 7)\n"
          ],
          "name": "stdout"
        },
        {
          "output_type": "execute_result",
          "data": {
            "text/html": [
              "<div>\n",
              "<style scoped>\n",
              "    .dataframe tbody tr th:only-of-type {\n",
              "        vertical-align: middle;\n",
              "    }\n",
              "\n",
              "    .dataframe tbody tr th {\n",
              "        vertical-align: top;\n",
              "    }\n",
              "\n",
              "    .dataframe thead th {\n",
              "        text-align: right;\n",
              "    }\n",
              "</style>\n",
              "<table border=\"1\" class=\"dataframe\">\n",
              "  <thead>\n",
              "    <tr style=\"text-align: right;\">\n",
              "      <th></th>\n",
              "      <th>Neighborhood</th>\n",
              "      <th>Latitude</th>\n",
              "      <th>Longitude</th>\n",
              "      <th>VenueName</th>\n",
              "      <th>VenueLatitude</th>\n",
              "      <th>VenueLongitude</th>\n",
              "      <th>VenueCategory</th>\n",
              "    </tr>\n",
              "  </thead>\n",
              "  <tbody>\n",
              "    <tr>\n",
              "      <th>0</th>\n",
              "      <td>Danapur</td>\n",
              "      <td>25.635890</td>\n",
              "      <td>85.047404</td>\n",
              "      <td>Danapur bazar</td>\n",
              "      <td>25.639040</td>\n",
              "      <td>85.053604</td>\n",
              "      <td>Accessories Store</td>\n",
              "    </tr>\n",
              "    <tr>\n",
              "      <th>1</th>\n",
              "      <td>Danapur</td>\n",
              "      <td>25.635890</td>\n",
              "      <td>85.047404</td>\n",
              "      <td>Axis Bank ATM</td>\n",
              "      <td>25.627390</td>\n",
              "      <td>85.041267</td>\n",
              "      <td>ATM</td>\n",
              "    </tr>\n",
              "    <tr>\n",
              "      <th>2</th>\n",
              "      <td>Danapur</td>\n",
              "      <td>25.635890</td>\n",
              "      <td>85.047404</td>\n",
              "      <td>HDFC Bank</td>\n",
              "      <td>25.642407</td>\n",
              "      <td>85.059658</td>\n",
              "      <td>ATM</td>\n",
              "    </tr>\n",
              "    <tr>\n",
              "      <th>3</th>\n",
              "      <td>Danapur</td>\n",
              "      <td>25.635890</td>\n",
              "      <td>85.047404</td>\n",
              "      <td>Kohler Authorized Dealer, G.D.Enterprises</td>\n",
              "      <td>25.620350</td>\n",
              "      <td>85.043679</td>\n",
              "      <td>Furniture / Home Store</td>\n",
              "    </tr>\n",
              "    <tr>\n",
              "      <th>4</th>\n",
              "      <td>Bailey Road</td>\n",
              "      <td>25.610941</td>\n",
              "      <td>85.130365</td>\n",
              "      <td>Gandhi Maidan</td>\n",
              "      <td>25.617395</td>\n",
              "      <td>85.145020</td>\n",
              "      <td>Park</td>\n",
              "    </tr>\n",
              "    <tr>\n",
              "      <th>5</th>\n",
              "      <td>Bailey Road</td>\n",
              "      <td>25.610941</td>\n",
              "      <td>85.130365</td>\n",
              "      <td>The Fruit Market</td>\n",
              "      <td>25.610884</td>\n",
              "      <td>85.129402</td>\n",
              "      <td>Juice Bar</td>\n",
              "    </tr>\n",
              "    <tr>\n",
              "      <th>6</th>\n",
              "      <td>Bailey Road</td>\n",
              "      <td>25.610941</td>\n",
              "      <td>85.130365</td>\n",
              "      <td>Gargee Grand</td>\n",
              "      <td>25.612909</td>\n",
              "      <td>85.143276</td>\n",
              "      <td>Hotel Bar</td>\n",
              "    </tr>\n",
              "    <tr>\n",
              "      <th>7</th>\n",
              "      <td>Bailey Road</td>\n",
              "      <td>25.610941</td>\n",
              "      <td>85.130365</td>\n",
              "      <td>Yo ! China</td>\n",
              "      <td>25.609010</td>\n",
              "      <td>85.135739</td>\n",
              "      <td>Chinese Restaurant</td>\n",
              "    </tr>\n",
              "    <tr>\n",
              "      <th>8</th>\n",
              "      <td>Bailey Road</td>\n",
              "      <td>25.610941</td>\n",
              "      <td>85.130365</td>\n",
              "      <td>KFC</td>\n",
              "      <td>25.618998</td>\n",
              "      <td>85.124934</td>\n",
              "      <td>Fast Food Restaurant</td>\n",
              "    </tr>\n",
              "    <tr>\n",
              "      <th>9</th>\n",
              "      <td>Bailey Road</td>\n",
              "      <td>25.610941</td>\n",
              "      <td>85.130365</td>\n",
              "      <td>Subway</td>\n",
              "      <td>25.613193</td>\n",
              "      <td>85.119204</td>\n",
              "      <td>American Restaurant</td>\n",
              "    </tr>\n",
              "    <tr>\n",
              "      <th>10</th>\n",
              "      <td>Bailey Road</td>\n",
              "      <td>25.610941</td>\n",
              "      <td>85.130365</td>\n",
              "      <td>Domino's Pizza</td>\n",
              "      <td>25.611037</td>\n",
              "      <td>85.142945</td>\n",
              "      <td>Pizza Place</td>\n",
              "    </tr>\n",
              "    <tr>\n",
              "      <th>11</th>\n",
              "      <td>Bailey Road</td>\n",
              "      <td>25.610941</td>\n",
              "      <td>85.130365</td>\n",
              "      <td>Hotel Chanakya Patna</td>\n",
              "      <td>25.600739</td>\n",
              "      <td>85.125937</td>\n",
              "      <td>Hotel</td>\n",
              "    </tr>\n",
              "    <tr>\n",
              "      <th>12</th>\n",
              "      <td>Bailey Road</td>\n",
              "      <td>25.610941</td>\n",
              "      <td>85.130365</td>\n",
              "      <td>Pind Baluchi</td>\n",
              "      <td>25.617194</td>\n",
              "      <td>85.140935</td>\n",
              "      <td>Indian Restaurant</td>\n",
              "    </tr>\n",
              "    <tr>\n",
              "      <th>13</th>\n",
              "      <td>Bailey Road</td>\n",
              "      <td>25.610941</td>\n",
              "      <td>85.130365</td>\n",
              "      <td>Hotel Patliputra Ashok Patna</td>\n",
              "      <td>25.609539</td>\n",
              "      <td>85.129478</td>\n",
              "      <td>Hotel</td>\n",
              "    </tr>\n",
              "    <tr>\n",
              "      <th>14</th>\n",
              "      <td>Bailey Road</td>\n",
              "      <td>25.610941</td>\n",
              "      <td>85.130365</td>\n",
              "      <td>Maurya Hotel</td>\n",
              "      <td>25.615456</td>\n",
              "      <td>85.142218</td>\n",
              "      <td>Hotel</td>\n",
              "    </tr>\n",
              "    <tr>\n",
              "      <th>15</th>\n",
              "      <td>Bailey Road</td>\n",
              "      <td>25.610941</td>\n",
              "      <td>85.130365</td>\n",
              "      <td>Cafe Coffee Day</td>\n",
              "      <td>25.617113</td>\n",
              "      <td>85.148861</td>\n",
              "      <td>Café</td>\n",
              "    </tr>\n",
              "    <tr>\n",
              "      <th>16</th>\n",
              "      <td>Bailey Road</td>\n",
              "      <td>25.610941</td>\n",
              "      <td>85.130365</td>\n",
              "      <td>Boring Canal Road Crossing</td>\n",
              "      <td>25.610633</td>\n",
              "      <td>85.117299</td>\n",
              "      <td>Department Store</td>\n",
              "    </tr>\n",
              "    <tr>\n",
              "      <th>17</th>\n",
              "      <td>Bailey Road</td>\n",
              "      <td>25.610941</td>\n",
              "      <td>85.130365</td>\n",
              "      <td>Patna Junction Railway Station (PNBE)</td>\n",
              "      <td>25.602521</td>\n",
              "      <td>85.137091</td>\n",
              "      <td>Train Station</td>\n",
              "    </tr>\n",
              "    <tr>\n",
              "      <th>18</th>\n",
              "      <td>Bailey Road</td>\n",
              "      <td>25.610941</td>\n",
              "      <td>85.130365</td>\n",
              "      <td>Brewberrys</td>\n",
              "      <td>25.618146</td>\n",
              "      <td>85.121605</td>\n",
              "      <td>Café</td>\n",
              "    </tr>\n",
              "    <tr>\n",
              "      <th>19</th>\n",
              "      <td>Bailey Road</td>\n",
              "      <td>25.610941</td>\n",
              "      <td>85.130365</td>\n",
              "      <td>Bikaner Sweets</td>\n",
              "      <td>25.612941</td>\n",
              "      <td>85.117228</td>\n",
              "      <td>Bakery</td>\n",
              "    </tr>\n",
              "  </tbody>\n",
              "</table>\n",
              "</div>"
            ],
            "text/plain": [
              "   Neighborhood   Latitude  ...  VenueLongitude           VenueCategory\n",
              "0       Danapur  25.635890  ...       85.053604       Accessories Store\n",
              "1       Danapur  25.635890  ...       85.041267                     ATM\n",
              "2       Danapur  25.635890  ...       85.059658                     ATM\n",
              "3       Danapur  25.635890  ...       85.043679  Furniture / Home Store\n",
              "4   Bailey Road  25.610941  ...       85.145020                    Park\n",
              "5   Bailey Road  25.610941  ...       85.129402               Juice Bar\n",
              "6   Bailey Road  25.610941  ...       85.143276               Hotel Bar\n",
              "7   Bailey Road  25.610941  ...       85.135739      Chinese Restaurant\n",
              "8   Bailey Road  25.610941  ...       85.124934    Fast Food Restaurant\n",
              "9   Bailey Road  25.610941  ...       85.119204     American Restaurant\n",
              "10  Bailey Road  25.610941  ...       85.142945             Pizza Place\n",
              "11  Bailey Road  25.610941  ...       85.125937                   Hotel\n",
              "12  Bailey Road  25.610941  ...       85.140935       Indian Restaurant\n",
              "13  Bailey Road  25.610941  ...       85.129478                   Hotel\n",
              "14  Bailey Road  25.610941  ...       85.142218                   Hotel\n",
              "15  Bailey Road  25.610941  ...       85.148861                    Café\n",
              "16  Bailey Road  25.610941  ...       85.117299        Department Store\n",
              "17  Bailey Road  25.610941  ...       85.137091           Train Station\n",
              "18  Bailey Road  25.610941  ...       85.121605                    Café\n",
              "19  Bailey Road  25.610941  ...       85.117228                  Bakery\n",
              "\n",
              "[20 rows x 7 columns]"
            ]
          },
          "metadata": {
            "tags": []
          },
          "execution_count": 35
        }
      ]
    },
    {
      "cell_type": "code",
      "metadata": {
        "id": "lH9pP2X-LUuk",
        "colab_type": "code",
        "colab": {
          "base_uri": "https://localhost:8080/",
          "height": 156
        },
        "outputId": "d4885b95-9775-4aec-943f-05c379c6d13e"
      },
      "source": [
        "# Lets check how many venues were returned for each neighbourhood\n",
        "venues_df.groupby([\"Neighborhood\"]).count()\n",
        "# Lets check out how many unique categories can be curated from all the returned values\n",
        "print('There are {} unique categories.'.format(len(venues_df['VenueCategory'].unique())))\n",
        "#There are 174 unique categories\n",
        "# Displaying the first 50 Venue Category names\n",
        "venues_df['VenueCategory'].unique()[:50]"
      ],
      "execution_count": null,
      "outputs": [
        {
          "output_type": "stream",
          "text": [
            "There are 22 unique categories.\n"
          ],
          "name": "stdout"
        },
        {
          "output_type": "execute_result",
          "data": {
            "text/plain": [
              "array(['Accessories Store', 'ATM', 'Furniture / Home Store', 'Park',\n",
              "       'Juice Bar', 'Hotel Bar', 'Chinese Restaurant',\n",
              "       'Fast Food Restaurant', 'American Restaurant', 'Pizza Place',\n",
              "       'Hotel', 'Indian Restaurant', 'Café', 'Department Store',\n",
              "       'Train Station', 'Bakery', 'Clothing Store', 'Shopping Mall',\n",
              "       'Multiplex', 'Gym / Fitness Center', \"Men's Store\",\n",
              "       'Tourist Information Center'], dtype=object)"
            ]
          },
          "metadata": {
            "tags": []
          },
          "execution_count": 36
        }
      ]
    },
    {
      "cell_type": "code",
      "metadata": {
        "id": "vuxbsRKrLU3I",
        "colab_type": "code",
        "colab": {
          "base_uri": "https://localhost:8080/",
          "height": 35
        },
        "outputId": "d056a40f-3bb1-4a09-b68c-5610cc469a6d"
      },
      "source": [
        "# One hot encoding\n",
        "kl_onehot = pd.get_dummies(venues_df[['VenueCategory']], prefix=\"\", prefix_sep=\"\")\n",
        "# Adding neighborhood column back to dataframe\n",
        "kl_onehot['Neighborhoods'] = venues_df['Neighborhood']\n",
        "# Moving neighbourhood column to the first column\n",
        "fixed_columns = [kl_onehot.columns[-1]] + list(kl_onehot.columns[:-1])\n",
        "kl_onehot = kl_onehot[fixed_columns]\n",
        "print(kl_onehot.shape)"
      ],
      "execution_count": null,
      "outputs": [
        {
          "output_type": "stream",
          "text": [
            "(62, 23)\n"
          ],
          "name": "stdout"
        }
      ]
    },
    {
      "cell_type": "markdown",
      "metadata": {
        "id": "rGj8JSXu6cti",
        "colab_type": "text"
      },
      "source": [
        "Now we have neighbour address now we need to group them together."
      ]
    },
    {
      "cell_type": "code",
      "metadata": {
        "id": "L0xJGEvHLUqZ",
        "colab_type": "code",
        "colab": {
          "base_uri": "https://localhost:8080/",
          "height": 401
        },
        "outputId": "2e39238a-afba-4f8c-8876-e30c9f6a50df"
      },
      "source": [
        "kl_grouped=kl_onehot.groupby([\"Neighborhoods\"]).sum().reset_index()\n",
        "print(kl_grouped.shape)\n",
        "kl_grouped"
      ],
      "execution_count": null,
      "outputs": [
        {
          "output_type": "stream",
          "text": [
            "(8, 23)\n"
          ],
          "name": "stdout"
        },
        {
          "output_type": "execute_result",
          "data": {
            "text/html": [
              "<div>\n",
              "<style scoped>\n",
              "    .dataframe tbody tr th:only-of-type {\n",
              "        vertical-align: middle;\n",
              "    }\n",
              "\n",
              "    .dataframe tbody tr th {\n",
              "        vertical-align: top;\n",
              "    }\n",
              "\n",
              "    .dataframe thead th {\n",
              "        text-align: right;\n",
              "    }\n",
              "</style>\n",
              "<table border=\"1\" class=\"dataframe\">\n",
              "  <thead>\n",
              "    <tr style=\"text-align: right;\">\n",
              "      <th></th>\n",
              "      <th>Neighborhoods</th>\n",
              "      <th>ATM</th>\n",
              "      <th>Accessories Store</th>\n",
              "      <th>American Restaurant</th>\n",
              "      <th>Bakery</th>\n",
              "      <th>Café</th>\n",
              "      <th>Chinese Restaurant</th>\n",
              "      <th>Clothing Store</th>\n",
              "      <th>Department Store</th>\n",
              "      <th>Fast Food Restaurant</th>\n",
              "      <th>Furniture / Home Store</th>\n",
              "      <th>Gym / Fitness Center</th>\n",
              "      <th>Hotel</th>\n",
              "      <th>Hotel Bar</th>\n",
              "      <th>Indian Restaurant</th>\n",
              "      <th>Juice Bar</th>\n",
              "      <th>Men's Store</th>\n",
              "      <th>Multiplex</th>\n",
              "      <th>Park</th>\n",
              "      <th>Pizza Place</th>\n",
              "      <th>Shopping Mall</th>\n",
              "      <th>Tourist Information Center</th>\n",
              "      <th>Train Station</th>\n",
              "    </tr>\n",
              "  </thead>\n",
              "  <tbody>\n",
              "    <tr>\n",
              "      <th>0</th>\n",
              "      <td>Ashiana Digha Road</td>\n",
              "      <td>0</td>\n",
              "      <td>0</td>\n",
              "      <td>0</td>\n",
              "      <td>0</td>\n",
              "      <td>0</td>\n",
              "      <td>0</td>\n",
              "      <td>0</td>\n",
              "      <td>0</td>\n",
              "      <td>0</td>\n",
              "      <td>0</td>\n",
              "      <td>0</td>\n",
              "      <td>0</td>\n",
              "      <td>1</td>\n",
              "      <td>0</td>\n",
              "      <td>0</td>\n",
              "      <td>0</td>\n",
              "      <td>0</td>\n",
              "      <td>0</td>\n",
              "      <td>2</td>\n",
              "      <td>0</td>\n",
              "      <td>0</td>\n",
              "      <td>1</td>\n",
              "    </tr>\n",
              "    <tr>\n",
              "      <th>1</th>\n",
              "      <td>Bailey Road</td>\n",
              "      <td>0</td>\n",
              "      <td>0</td>\n",
              "      <td>1</td>\n",
              "      <td>1</td>\n",
              "      <td>2</td>\n",
              "      <td>1</td>\n",
              "      <td>1</td>\n",
              "      <td>1</td>\n",
              "      <td>1</td>\n",
              "      <td>0</td>\n",
              "      <td>0</td>\n",
              "      <td>3</td>\n",
              "      <td>1</td>\n",
              "      <td>1</td>\n",
              "      <td>1</td>\n",
              "      <td>0</td>\n",
              "      <td>0</td>\n",
              "      <td>1</td>\n",
              "      <td>1</td>\n",
              "      <td>0</td>\n",
              "      <td>0</td>\n",
              "      <td>1</td>\n",
              "    </tr>\n",
              "    <tr>\n",
              "      <th>2</th>\n",
              "      <td>Bairiya</td>\n",
              "      <td>0</td>\n",
              "      <td>0</td>\n",
              "      <td>1</td>\n",
              "      <td>0</td>\n",
              "      <td>2</td>\n",
              "      <td>1</td>\n",
              "      <td>0</td>\n",
              "      <td>0</td>\n",
              "      <td>2</td>\n",
              "      <td>0</td>\n",
              "      <td>0</td>\n",
              "      <td>3</td>\n",
              "      <td>1</td>\n",
              "      <td>1</td>\n",
              "      <td>1</td>\n",
              "      <td>0</td>\n",
              "      <td>0</td>\n",
              "      <td>1</td>\n",
              "      <td>1</td>\n",
              "      <td>0</td>\n",
              "      <td>0</td>\n",
              "      <td>1</td>\n",
              "    </tr>\n",
              "    <tr>\n",
              "      <th>3</th>\n",
              "      <td>Danapur</td>\n",
              "      <td>2</td>\n",
              "      <td>1</td>\n",
              "      <td>0</td>\n",
              "      <td>0</td>\n",
              "      <td>0</td>\n",
              "      <td>0</td>\n",
              "      <td>0</td>\n",
              "      <td>0</td>\n",
              "      <td>0</td>\n",
              "      <td>1</td>\n",
              "      <td>0</td>\n",
              "      <td>0</td>\n",
              "      <td>0</td>\n",
              "      <td>0</td>\n",
              "      <td>0</td>\n",
              "      <td>0</td>\n",
              "      <td>0</td>\n",
              "      <td>0</td>\n",
              "      <td>0</td>\n",
              "      <td>0</td>\n",
              "      <td>0</td>\n",
              "      <td>0</td>\n",
              "    </tr>\n",
              "    <tr>\n",
              "      <th>4</th>\n",
              "      <td>Gola Road</td>\n",
              "      <td>0</td>\n",
              "      <td>0</td>\n",
              "      <td>0</td>\n",
              "      <td>0</td>\n",
              "      <td>1</td>\n",
              "      <td>0</td>\n",
              "      <td>0</td>\n",
              "      <td>0</td>\n",
              "      <td>0</td>\n",
              "      <td>0</td>\n",
              "      <td>1</td>\n",
              "      <td>0</td>\n",
              "      <td>0</td>\n",
              "      <td>1</td>\n",
              "      <td>0</td>\n",
              "      <td>0</td>\n",
              "      <td>1</td>\n",
              "      <td>0</td>\n",
              "      <td>0</td>\n",
              "      <td>1</td>\n",
              "      <td>0</td>\n",
              "      <td>0</td>\n",
              "    </tr>\n",
              "    <tr>\n",
              "      <th>5</th>\n",
              "      <td>Khagaul Danapur Road</td>\n",
              "      <td>0</td>\n",
              "      <td>0</td>\n",
              "      <td>0</td>\n",
              "      <td>0</td>\n",
              "      <td>0</td>\n",
              "      <td>0</td>\n",
              "      <td>0</td>\n",
              "      <td>0</td>\n",
              "      <td>0</td>\n",
              "      <td>0</td>\n",
              "      <td>0</td>\n",
              "      <td>0</td>\n",
              "      <td>0</td>\n",
              "      <td>0</td>\n",
              "      <td>0</td>\n",
              "      <td>0</td>\n",
              "      <td>0</td>\n",
              "      <td>0</td>\n",
              "      <td>0</td>\n",
              "      <td>0</td>\n",
              "      <td>1</td>\n",
              "      <td>0</td>\n",
              "    </tr>\n",
              "    <tr>\n",
              "      <th>6</th>\n",
              "      <td>Khagaul Road</td>\n",
              "      <td>0</td>\n",
              "      <td>0</td>\n",
              "      <td>1</td>\n",
              "      <td>1</td>\n",
              "      <td>2</td>\n",
              "      <td>1</td>\n",
              "      <td>2</td>\n",
              "      <td>1</td>\n",
              "      <td>1</td>\n",
              "      <td>0</td>\n",
              "      <td>0</td>\n",
              "      <td>1</td>\n",
              "      <td>0</td>\n",
              "      <td>0</td>\n",
              "      <td>1</td>\n",
              "      <td>1</td>\n",
              "      <td>0</td>\n",
              "      <td>0</td>\n",
              "      <td>1</td>\n",
              "      <td>0</td>\n",
              "      <td>0</td>\n",
              "      <td>1</td>\n",
              "    </tr>\n",
              "    <tr>\n",
              "      <th>7</th>\n",
              "      <td>Phulwari Sharif</td>\n",
              "      <td>0</td>\n",
              "      <td>0</td>\n",
              "      <td>0</td>\n",
              "      <td>0</td>\n",
              "      <td>0</td>\n",
              "      <td>0</td>\n",
              "      <td>0</td>\n",
              "      <td>0</td>\n",
              "      <td>0</td>\n",
              "      <td>0</td>\n",
              "      <td>0</td>\n",
              "      <td>1</td>\n",
              "      <td>0</td>\n",
              "      <td>0</td>\n",
              "      <td>0</td>\n",
              "      <td>0</td>\n",
              "      <td>0</td>\n",
              "      <td>0</td>\n",
              "      <td>0</td>\n",
              "      <td>0</td>\n",
              "      <td>0</td>\n",
              "      <td>1</td>\n",
              "    </tr>\n",
              "  </tbody>\n",
              "</table>\n",
              "</div>"
            ],
            "text/plain": [
              "          Neighborhoods  ATM  ...  Tourist Information Center  Train Station\n",
              "0    Ashiana Digha Road    0  ...                           0              1\n",
              "1           Bailey Road    0  ...                           0              1\n",
              "2               Bairiya    0  ...                           0              1\n",
              "3               Danapur    2  ...                           0              0\n",
              "4             Gola Road    0  ...                           0              0\n",
              "5  Khagaul Danapur Road    0  ...                           1              0\n",
              "6          Khagaul Road    0  ...                           0              1\n",
              "7       Phulwari Sharif    0  ...                           0              1\n",
              "\n",
              "[8 rows x 23 columns]"
            ]
          },
          "metadata": {
            "tags": []
          },
          "execution_count": 38
        }
      ]
    },
    {
      "cell_type": "code",
      "metadata": {
        "id": "mzOwbzyALUnd",
        "colab_type": "code",
        "colab": {}
      },
      "source": [
        "# Creating a dataframe for Shopping Mall data only\n",
        "kl_mall = kl_grouped[[\"Neighborhoods\",\"Shopping Mall\"]]"
      ],
      "execution_count": null,
      "outputs": []
    },
    {
      "cell_type": "markdown",
      "metadata": {
        "id": "cf0ISKQEENq6",
        "colab_type": "text"
      },
      "source": [
        "I am going to cluster them with the help of scikit learn library."
      ]
    },
    {
      "cell_type": "code",
      "metadata": {
        "id": "48ngCaQ7LUkL",
        "colab_type": "code",
        "colab": {
          "base_uri": "https://localhost:8080/",
          "height": 89
        },
        "outputId": "9ba0a65b-1da1-4b76-f010-072a484bcfc7"
      },
      "source": [
        "from sklearn.cluster import KMeans\n",
        "# Setting the number of clusters\n",
        "kclusters = 3\n",
        "kl_clustering = kl_mall.drop([\"Neighborhoods\"], 1)\n",
        "# Run k-means clustering algorithm\n",
        "kmeans = KMeans(n_clusters=kclusters,random_state=0).fit(kl_clustering)\n",
        "# Checking cluster labels generated for each row in the dataframe\n",
        "kmeans.labels_[0:10]\n",
        "# array([0, 0, 0, 1, 0, 1, 1, 0, 0, 0], dtype=int32)"
      ],
      "execution_count": null,
      "outputs": [
        {
          "output_type": "stream",
          "text": [
            "/usr/local/lib/python3.6/dist-packages/ipykernel_launcher.py:6: ConvergenceWarning: Number of distinct clusters (2) found smaller than n_clusters (3). Possibly due to duplicate points in X.\n",
            "  \n"
          ],
          "name": "stderr"
        },
        {
          "output_type": "execute_result",
          "data": {
            "text/plain": [
              "array([1, 1, 1, 1, 0, 1, 1, 1], dtype=int32)"
            ]
          },
          "metadata": {
            "tags": []
          },
          "execution_count": 40
        }
      ]
    },
    {
      "cell_type": "code",
      "metadata": {
        "id": "7ISQ0DYTIun_",
        "colab_type": "code",
        "colab": {}
      },
      "source": [
        ""
      ],
      "execution_count": null,
      "outputs": []
    },
    {
      "cell_type": "code",
      "metadata": {
        "id": "wHkMRsD8L9bo",
        "colab_type": "code",
        "colab": {
          "base_uri": "https://localhost:8080/",
          "height": 294
        },
        "outputId": "1fa63d35-c26e-41e2-8eef-ed8db73b3d34"
      },
      "source": [
        "# Creating a new dataframe that includes the cluster as well as the top 10 venues for each neighborhood.\n",
        "kl_merged = kl_mall.copy()\n",
        "# Add the clustering labels\n",
        "kl_merged[\"Cluster Labels\"] = kmeans.labels_\n",
        "kl_merged.rename(columns={\"Neighborhoods\": \"Neighborhood\"}, inplace=True)\n",
        "kl_merged.head(10)"
      ],
      "execution_count": null,
      "outputs": [
        {
          "output_type": "execute_result",
          "data": {
            "text/html": [
              "<div>\n",
              "<style scoped>\n",
              "    .dataframe tbody tr th:only-of-type {\n",
              "        vertical-align: middle;\n",
              "    }\n",
              "\n",
              "    .dataframe tbody tr th {\n",
              "        vertical-align: top;\n",
              "    }\n",
              "\n",
              "    .dataframe thead th {\n",
              "        text-align: right;\n",
              "    }\n",
              "</style>\n",
              "<table border=\"1\" class=\"dataframe\">\n",
              "  <thead>\n",
              "    <tr style=\"text-align: right;\">\n",
              "      <th></th>\n",
              "      <th>Neighborhood</th>\n",
              "      <th>Shopping Mall</th>\n",
              "      <th>Cluster Labels</th>\n",
              "    </tr>\n",
              "  </thead>\n",
              "  <tbody>\n",
              "    <tr>\n",
              "      <th>0</th>\n",
              "      <td>Ashiana Digha Road</td>\n",
              "      <td>0</td>\n",
              "      <td>1</td>\n",
              "    </tr>\n",
              "    <tr>\n",
              "      <th>1</th>\n",
              "      <td>Bailey Road</td>\n",
              "      <td>0</td>\n",
              "      <td>1</td>\n",
              "    </tr>\n",
              "    <tr>\n",
              "      <th>2</th>\n",
              "      <td>Bairiya</td>\n",
              "      <td>0</td>\n",
              "      <td>1</td>\n",
              "    </tr>\n",
              "    <tr>\n",
              "      <th>3</th>\n",
              "      <td>Danapur</td>\n",
              "      <td>0</td>\n",
              "      <td>1</td>\n",
              "    </tr>\n",
              "    <tr>\n",
              "      <th>4</th>\n",
              "      <td>Gola Road</td>\n",
              "      <td>1</td>\n",
              "      <td>0</td>\n",
              "    </tr>\n",
              "    <tr>\n",
              "      <th>5</th>\n",
              "      <td>Khagaul Danapur Road</td>\n",
              "      <td>0</td>\n",
              "      <td>1</td>\n",
              "    </tr>\n",
              "    <tr>\n",
              "      <th>6</th>\n",
              "      <td>Khagaul Road</td>\n",
              "      <td>0</td>\n",
              "      <td>1</td>\n",
              "    </tr>\n",
              "    <tr>\n",
              "      <th>7</th>\n",
              "      <td>Phulwari Sharif</td>\n",
              "      <td>0</td>\n",
              "      <td>1</td>\n",
              "    </tr>\n",
              "  </tbody>\n",
              "</table>\n",
              "</div>"
            ],
            "text/plain": [
              "           Neighborhood  Shopping Mall  Cluster Labels\n",
              "0    Ashiana Digha Road              0               1\n",
              "1           Bailey Road              0               1\n",
              "2               Bairiya              0               1\n",
              "3               Danapur              0               1\n",
              "4             Gola Road              1               0\n",
              "5  Khagaul Danapur Road              0               1\n",
              "6          Khagaul Road              0               1\n",
              "7       Phulwari Sharif              0               1"
            ]
          },
          "metadata": {
            "tags": []
          },
          "execution_count": 41
        }
      ]
    },
    {
      "cell_type": "code",
      "metadata": {
        "id": "khld6GlWL9X5",
        "colab_type": "code",
        "colab": {
          "base_uri": "https://localhost:8080/",
          "height": 294
        },
        "outputId": "cbc51206-855e-4c54-c06a-ed35bef1929e"
      },
      "source": [
        "k1_df = patna_data1\n",
        "# Adding latitude and longitude values to the existing dataframe\n",
        "kl_merged['Latitude'] = patna_data1['latitude']\n",
        "kl_merged['Longitude'] = patna_data1['longitude']\n",
        "# Sorting the results by Cluster Labels\n",
        "kl_merged.sort_values([\"Cluster Labels\"], inplace=True)\n",
        "kl_merged"
      ],
      "execution_count": null,
      "outputs": [
        {
          "output_type": "execute_result",
          "data": {
            "text/html": [
              "<div>\n",
              "<style scoped>\n",
              "    .dataframe tbody tr th:only-of-type {\n",
              "        vertical-align: middle;\n",
              "    }\n",
              "\n",
              "    .dataframe tbody tr th {\n",
              "        vertical-align: top;\n",
              "    }\n",
              "\n",
              "    .dataframe thead th {\n",
              "        text-align: right;\n",
              "    }\n",
              "</style>\n",
              "<table border=\"1\" class=\"dataframe\">\n",
              "  <thead>\n",
              "    <tr style=\"text-align: right;\">\n",
              "      <th></th>\n",
              "      <th>Neighborhood</th>\n",
              "      <th>Shopping Mall</th>\n",
              "      <th>Cluster Labels</th>\n",
              "      <th>Latitude</th>\n",
              "      <th>Longitude</th>\n",
              "    </tr>\n",
              "  </thead>\n",
              "  <tbody>\n",
              "    <tr>\n",
              "      <th>4</th>\n",
              "      <td>Gola Road</td>\n",
              "      <td>1</td>\n",
              "      <td>0</td>\n",
              "      <td>25.502662</td>\n",
              "      <td>84.865381</td>\n",
              "    </tr>\n",
              "    <tr>\n",
              "      <th>0</th>\n",
              "      <td>Ashiana Digha Road</td>\n",
              "      <td>0</td>\n",
              "      <td>1</td>\n",
              "      <td>25.635890</td>\n",
              "      <td>85.047404</td>\n",
              "    </tr>\n",
              "    <tr>\n",
              "      <th>1</th>\n",
              "      <td>Bailey Road</td>\n",
              "      <td>0</td>\n",
              "      <td>1</td>\n",
              "      <td>25.610941</td>\n",
              "      <td>85.130365</td>\n",
              "    </tr>\n",
              "    <tr>\n",
              "      <th>2</th>\n",
              "      <td>Bairiya</td>\n",
              "      <td>0</td>\n",
              "      <td>1</td>\n",
              "      <td>25.561830</td>\n",
              "      <td>84.866519</td>\n",
              "    </tr>\n",
              "    <tr>\n",
              "      <th>3</th>\n",
              "      <td>Danapur</td>\n",
              "      <td>0</td>\n",
              "      <td>1</td>\n",
              "      <td>25.621772</td>\n",
              "      <td>85.097105</td>\n",
              "    </tr>\n",
              "    <tr>\n",
              "      <th>5</th>\n",
              "      <td>Khagaul Danapur Road</td>\n",
              "      <td>0</td>\n",
              "      <td>1</td>\n",
              "      <td>25.610979</td>\n",
              "      <td>85.120865</td>\n",
              "    </tr>\n",
              "    <tr>\n",
              "      <th>6</th>\n",
              "      <td>Khagaul Road</td>\n",
              "      <td>0</td>\n",
              "      <td>1</td>\n",
              "      <td>25.597810</td>\n",
              "      <td>85.153732</td>\n",
              "    </tr>\n",
              "    <tr>\n",
              "      <th>7</th>\n",
              "      <td>Phulwari Sharif</td>\n",
              "      <td>0</td>\n",
              "      <td>1</td>\n",
              "      <td>25.612184</td>\n",
              "      <td>85.138570</td>\n",
              "    </tr>\n",
              "  </tbody>\n",
              "</table>\n",
              "</div>"
            ],
            "text/plain": [
              "           Neighborhood  Shopping Mall  Cluster Labels   Latitude  Longitude\n",
              "4             Gola Road              1               0  25.502662  84.865381\n",
              "0    Ashiana Digha Road              0               1  25.635890  85.047404\n",
              "1           Bailey Road              0               1  25.610941  85.130365\n",
              "2               Bairiya              0               1  25.561830  84.866519\n",
              "3               Danapur              0               1  25.621772  85.097105\n",
              "5  Khagaul Danapur Road              0               1  25.610979  85.120865\n",
              "6          Khagaul Road              0               1  25.597810  85.153732\n",
              "7       Phulwari Sharif              0               1  25.612184  85.138570"
            ]
          },
          "metadata": {
            "tags": []
          },
          "execution_count": 42
        }
      ]
    },
    {
      "cell_type": "code",
      "metadata": {
        "id": "-HLXcAaWL9T2",
        "colab_type": "code",
        "colab": {
          "base_uri": "https://localhost:8080/",
          "height": 712
        },
        "outputId": "25400fea-5f4a-4e35-d99f-2ca39565139b"
      },
      "source": [
        "import numpy as np\n",
        "import matplotlib.cm as cm\n",
        "\n",
        "# Creating the map\n",
        "latitude = 25.502662\n",
        "longitude = 84.865381\n",
        "map_clusters = folium.Map(location=[latitude, longitude], zoom_start=11)\n",
        "# Setting color scheme for the clusters\n",
        "x = np.arange(kclusters)\n",
        "ys = [i+x+(i*x)**2 for i in range(kclusters)]\n",
        "colors_array = cm.rainbow(np.linspace(0, 1, len(ys)))\n",
        "\n",
        "# Adding markers to the map\n",
        "markers_colors = []\n",
        "for lat, lon, poi, cluster in zip(kl_merged['Latitude'], kl_merged['Longitude'], kl_merged['Neighborhood'], kl_merged['Cluster Labels']):\n",
        "  label = folium.Popup(str(poi) + ' - Cluster ' + str(cluster), parse_html=True)\n",
        "  folium.CircleMarker([lat,lon],radius=5,popup=label,fill=True,fill_opacity=0.7).add_to(map_clusters)\n",
        "map_clusters"
      ],
      "execution_count": null,
      "outputs": [
        {
          "output_type": "execute_result",
          "data": {
            "text/html": [
              "<div style=\"width:100%;\"><div style=\"position:relative;width:100%;height:0;padding-bottom:60%;\"><span style=\"color:#565656\">Make this Notebook Trusted to load map: File -> Trust Notebook</span><iframe src=\"about:blank\" style=\"position:absolute;width:100%;height:100%;left:0;top:0;border:none !important;\" data-html=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 onload=\"this.contentDocument.open();this.contentDocument.write(atob(this.getAttribute('data-html')));this.contentDocument.close();\" allowfullscreen webkitallowfullscreen mozallowfullscreen></iframe></div></div>"
            ],
            "text/plain": [
              "<folium.folium.Map at 0x7f1798d30588>"
            ]
          },
          "metadata": {
            "tags": []
          },
          "execution_count": 43
        }
      ]
    },
    {
      "cell_type": "code",
      "metadata": {
        "id": "8EDGbBEcL9Px",
        "colab_type": "code",
        "colab": {}
      },
      "source": [
        ""
      ],
      "execution_count": null,
      "outputs": []
    },
    {
      "cell_type": "code",
      "metadata": {
        "id": "Wa4hdzVUL9MH",
        "colab_type": "code",
        "colab": {}
      },
      "source": [
        ""
      ],
      "execution_count": null,
      "outputs": []
    },
    {
      "cell_type": "code",
      "metadata": {
        "id": "xrwaAlMaLUdD",
        "colab_type": "code",
        "colab": {}
      },
      "source": [
        ""
      ],
      "execution_count": null,
      "outputs": []
    },
    {
      "cell_type": "code",
      "metadata": {
        "id": "yi4DRib69hJp",
        "colab_type": "code",
        "colab": {}
      },
      "source": [
        ""
      ],
      "execution_count": null,
      "outputs": []
    },
    {
      "cell_type": "code",
      "metadata": {
        "id": "lbLltYwUpQAg",
        "colab_type": "code",
        "colab": {}
      },
      "source": [
        ""
      ],
      "execution_count": null,
      "outputs": []
    }
  ]
}